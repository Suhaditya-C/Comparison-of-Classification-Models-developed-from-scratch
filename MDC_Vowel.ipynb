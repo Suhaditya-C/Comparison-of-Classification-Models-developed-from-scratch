{
 "cells": [
  {
   "cell_type": "markdown",
   "id": "f558bb1a-827c-4b96-8e5e-6ad781705986",
   "metadata": {},
   "source": [
    "# Minimum Distance Classifier (MDC)"
   ]
  },
  {
   "cell_type": "markdown",
   "id": "a6fcf7dc-5274-4032-8f50-651daf82e659",
   "metadata": {},
   "source": [
    "## Importing Dependencies"
   ]
  },
  {
   "cell_type": "code",
   "execution_count": 1,
   "id": "0df9c733-135d-420e-bf84-8d80cbeee9c1",
   "metadata": {},
   "outputs": [],
   "source": [
    "import pandas as pd\n",
    "import numpy as np\n",
    "from sklearn.model_selection import train_test_split"
   ]
  },
  {
   "cell_type": "code",
   "execution_count": 2,
   "id": "12ea48e2-a94d-4f83-94c6-a6db080adc58",
   "metadata": {},
   "outputs": [
    {
     "data": {
      "text/html": [
       "<div>\n",
       "<style scoped>\n",
       "    .dataframe tbody tr th:only-of-type {\n",
       "        vertical-align: middle;\n",
       "    }\n",
       "\n",
       "    .dataframe tbody tr th {\n",
       "        vertical-align: top;\n",
       "    }\n",
       "\n",
       "    .dataframe thead th {\n",
       "        text-align: right;\n",
       "    }\n",
       "</style>\n",
       "<table border=\"1\" class=\"dataframe\">\n",
       "  <thead>\n",
       "    <tr style=\"text-align: right;\">\n",
       "      <th></th>\n",
       "      <th>Class</th>\n",
       "      <th>F1</th>\n",
       "      <th>F2</th>\n",
       "      <th>F3</th>\n",
       "    </tr>\n",
       "  </thead>\n",
       "  <tbody>\n",
       "    <tr>\n",
       "      <th>815</th>\n",
       "      <td>6</td>\n",
       "      <td>400</td>\n",
       "      <td>850</td>\n",
       "      <td>2300</td>\n",
       "    </tr>\n",
       "    <tr>\n",
       "      <th>715</th>\n",
       "      <td>6</td>\n",
       "      <td>500</td>\n",
       "      <td>1000</td>\n",
       "      <td>2300</td>\n",
       "    </tr>\n",
       "    <tr>\n",
       "      <th>478</th>\n",
       "      <td>4</td>\n",
       "      <td>350</td>\n",
       "      <td>800</td>\n",
       "      <td>2630</td>\n",
       "    </tr>\n",
       "    <tr>\n",
       "      <th>541</th>\n",
       "      <td>5</td>\n",
       "      <td>500</td>\n",
       "      <td>1550</td>\n",
       "      <td>2450</td>\n",
       "    </tr>\n",
       "    <tr>\n",
       "      <th>599</th>\n",
       "      <td>5</td>\n",
       "      <td>400</td>\n",
       "      <td>2000</td>\n",
       "      <td>2600</td>\n",
       "    </tr>\n",
       "  </tbody>\n",
       "</table>\n",
       "</div>"
      ],
      "text/plain": [
       "     Class   F1    F2    F3\n",
       "815      6  400   850  2300\n",
       "715      6  500  1000  2300\n",
       "478      4  350   800  2630\n",
       "541      5  500  1550  2450\n",
       "599      5  400  2000  2600"
      ]
     },
     "execution_count": 2,
     "metadata": {},
     "output_type": "execute_result"
    }
   ],
   "source": [
    "df=pd.read_csv('Vowel.csv')\n",
    "df.head()\n",
    "df.sample(5)"
   ]
  },
  {
   "cell_type": "code",
   "execution_count": 3,
   "id": "7bf55722-015b-4130-9637-7d6d8872376e",
   "metadata": {},
   "outputs": [
    {
     "data": {
      "text/plain": [
       "Class\n",
       "5    207\n",
       "6    180\n",
       "3    172\n",
       "4    151\n",
       "2     89\n",
       "1     72\n",
       "Name: count, dtype: int64"
      ]
     },
     "execution_count": 3,
     "metadata": {},
     "output_type": "execute_result"
    }
   ],
   "source": [
    "df.value_counts('Class')"
   ]
  },
  {
   "cell_type": "markdown",
   "id": "a8404203-3cad-46e0-9575-7e5ded38e8e7",
   "metadata": {},
   "source": [
    "## Assign codes to different classes"
   ]
  },
  {
   "cell_type": "code",
   "execution_count": 5,
   "id": "ab5ed8cd-a3e1-4c1b-a749-4d877b279f28",
   "metadata": {},
   "outputs": [
    {
     "data": {
      "text/html": [
       "<div>\n",
       "<style scoped>\n",
       "    .dataframe tbody tr th:only-of-type {\n",
       "        vertical-align: middle;\n",
       "    }\n",
       "\n",
       "    .dataframe tbody tr th {\n",
       "        vertical-align: top;\n",
       "    }\n",
       "\n",
       "    .dataframe thead th {\n",
       "        text-align: right;\n",
       "    }\n",
       "</style>\n",
       "<table border=\"1\" class=\"dataframe\">\n",
       "  <thead>\n",
       "    <tr style=\"text-align: right;\">\n",
       "      <th></th>\n",
       "      <th>Class</th>\n",
       "      <th>F1</th>\n",
       "      <th>F2</th>\n",
       "      <th>F3</th>\n",
       "      <th>class</th>\n",
       "    </tr>\n",
       "  </thead>\n",
       "  <tbody>\n",
       "    <tr>\n",
       "      <th>352</th>\n",
       "      <td>4</td>\n",
       "      <td>450</td>\n",
       "      <td>1000</td>\n",
       "      <td>1800</td>\n",
       "      <td>3</td>\n",
       "    </tr>\n",
       "    <tr>\n",
       "      <th>470</th>\n",
       "      <td>4</td>\n",
       "      <td>300</td>\n",
       "      <td>1000</td>\n",
       "      <td>2400</td>\n",
       "      <td>3</td>\n",
       "    </tr>\n",
       "    <tr>\n",
       "      <th>492</th>\n",
       "      <td>5</td>\n",
       "      <td>600</td>\n",
       "      <td>1900</td>\n",
       "      <td>2400</td>\n",
       "      <td>4</td>\n",
       "    </tr>\n",
       "    <tr>\n",
       "      <th>637</th>\n",
       "      <td>5</td>\n",
       "      <td>500</td>\n",
       "      <td>1400</td>\n",
       "      <td>2500</td>\n",
       "      <td>4</td>\n",
       "    </tr>\n",
       "    <tr>\n",
       "      <th>593</th>\n",
       "      <td>5</td>\n",
       "      <td>550</td>\n",
       "      <td>2100</td>\n",
       "      <td>2700</td>\n",
       "      <td>4</td>\n",
       "    </tr>\n",
       "  </tbody>\n",
       "</table>\n",
       "</div>"
      ],
      "text/plain": [
       "     Class   F1    F2    F3  class\n",
       "352      4  450  1000  1800      3\n",
       "470      4  300  1000  2400      3\n",
       "492      5  600  1900  2400      4\n",
       "637      5  500  1400  2500      4\n",
       "593      5  550  2100  2700      4"
      ]
     },
     "execution_count": 5,
     "metadata": {},
     "output_type": "execute_result"
    }
   ],
   "source": [
    "df['class'] = df['Class']-1\n",
    "df.sample(5)"
   ]
  },
  {
   "cell_type": "markdown",
   "id": "ac6b7013",
   "metadata": {},
   "source": [
    "## Using entire dataset for training"
   ]
  },
  {
   "cell_type": "markdown",
   "id": "4c40b366-5c63-459b-85c3-fd99c40dcbab",
   "metadata": {},
   "source": [
    "### Classwise Centroid Calculation"
   ]
  },
  {
   "cell_type": "code",
   "execution_count": 6,
   "id": "bbb3de5f",
   "metadata": {},
   "outputs": [
    {
     "data": {
      "text/plain": [
       "array([[ 700, 1500, 2600,    0],\n",
       "       [ 550, 1550, 2400,    0],\n",
       "       [ 700, 1500, 2600,    0],\n",
       "       ...,\n",
       "       [ 500, 1000, 2800,    5],\n",
       "       [ 500,  900, 2800,    5],\n",
       "       [ 500,  950, 2700,    5]], dtype=int64)"
      ]
     },
     "execution_count": 6,
     "metadata": {},
     "output_type": "execute_result"
    }
   ],
   "source": [
    "#Convert to Numpy\n",
    "ndata=df.drop(columns=['Class']).to_numpy()\n",
    "ndata"
   ]
  },
  {
   "cell_type": "code",
   "execution_count": 7,
   "id": "7d2f09c5",
   "metadata": {},
   "outputs": [
    {
     "data": {
      "text/plain": [
       "(871, 4)"
      ]
     },
     "execution_count": 7,
     "metadata": {},
     "output_type": "execute_result"
    }
   ],
   "source": [
    "m,n=ndata.shape\n",
    "m,n"
   ]
  },
  {
   "cell_type": "code",
   "execution_count": 8,
   "id": "dae63c79",
   "metadata": {},
   "outputs": [
    {
     "data": {
      "text/plain": [
       "6"
      ]
     },
     "execution_count": 8,
     "metadata": {},
     "output_type": "execute_result"
    }
   ],
   "source": [
    "#Get no. of classes\n",
    "k=df['class'].nunique()\n",
    "k"
   ]
  },
  {
   "cell_type": "code",
   "execution_count": 9,
   "id": "ca5ee25c",
   "metadata": {},
   "outputs": [],
   "source": [
    "#Define Centroids Array\n",
    "centroids=[0]*k"
   ]
  },
  {
   "cell_type": "code",
   "execution_count": 10,
   "id": "a5c25d33",
   "metadata": {},
   "outputs": [
    {
     "data": {
      "text/plain": [
       "array([[6.03472222e+02, 1.46805556e+03, 2.37930556e+03, 0.00000000e+00],\n",
       "       [6.98314607e+02, 1.24044944e+03, 2.33820225e+03, 1.00000000e+00],\n",
       "       [3.42209302e+02, 2.20203488e+03, 2.80505814e+03, 2.00000000e+00],\n",
       "       [3.58145695e+02, 9.78476821e+02, 2.49450331e+03, 3.00000000e+00],\n",
       "       [5.04830918e+02, 1.86657005e+03, 2.61743961e+03, 4.00000000e+00],\n",
       "       [4.81944444e+02, 1.05727778e+03, 2.50161111e+03, 5.00000000e+00]])"
      ]
     },
     "execution_count": 10,
     "metadata": {},
     "output_type": "execute_result"
    }
   ],
   "source": [
    "#Centroids calculation\n",
    "for i in range(k):\n",
    "    centroids[i]=np.mean(ndata[ndata[:,-1]==i],axis=0)\n",
    "centroids=np.array(centroids)\n",
    "centroids"
   ]
  },
  {
   "cell_type": "markdown",
   "id": "e3965acf",
   "metadata": {},
   "source": [
    "### Compute euclidean distances  of each row from the centroids"
   ]
  },
  {
   "cell_type": "code",
   "execution_count": 11,
   "id": "ae79cedf",
   "metadata": {},
   "outputs": [],
   "source": [
    "#defining euclidean distance first\n",
    "\n",
    "def e_dist(a,b):\n",
    "    return np.sqrt(np.sum(np.square(a-b)))"
   ]
  },
  {
   "cell_type": "markdown",
   "id": "a2aea329-49be-4bcd-9878-30e5af0506a8",
   "metadata": {},
   "source": [
    "### Testing Phase: Calculate distance of every point from each centroid and assign it to the nearest class"
   ]
  },
  {
   "cell_type": "code",
   "execution_count": 14,
   "id": "45d74f8d",
   "metadata": {},
   "outputs": [
    {
     "data": {
      "text/plain": [
       "array([0, 0, 0, 4, 0, 5, 5, 4, 0, 0, 4, 4, 4, 4, 0, 0, 0, 4, 0, 0, 0, 0,\n",
       "       0, 5, 1, 0, 0, 0, 0, 1, 1, 1, 0, 1, 0, 0, 0, 0, 0, 0, 0, 0, 0, 1,\n",
       "       1, 1, 0, 1, 4, 1, 0, 1, 0, 0, 0, 0, 0, 1, 1, 1, 1, 0, 0, 4, 4, 1,\n",
       "       0, 0, 1, 4, 0, 1, 1, 1, 1, 5, 1, 5, 1, 1, 5, 1, 5, 1, 5, 1, 0, 5,\n",
       "       1, 5, 5, 5, 5, 1, 1, 1, 1, 5, 1, 5, 1, 1, 1, 1, 1, 1, 1, 1, 0, 1,\n",
       "       1, 1, 1, 1, 1, 1, 0, 1, 1, 1, 1, 1, 1, 1, 1, 1, 1, 1, 1, 1, 1, 1,\n",
       "       1, 1, 1, 1, 1, 1, 1, 1, 1, 1, 1, 1, 1, 1, 1, 1, 1, 1, 0, 1, 1, 1,\n",
       "       1, 1, 1, 0, 1, 1, 0, 2, 2, 4, 2, 2, 2, 2, 2, 2, 2, 2, 2, 2, 2, 2,\n",
       "       2, 2, 2, 2, 2, 4, 2, 2, 2, 4, 4, 4, 4, 4, 2, 4, 4, 4, 4, 4, 0, 4,\n",
       "       4, 4, 4, 4, 0, 4, 4, 4, 4, 4, 2, 4, 2, 2, 4, 2, 2, 2, 2, 2, 2, 2,\n",
       "       2, 2, 2, 2, 2, 2, 2, 2, 2, 2, 2, 2, 2, 2, 2, 2, 2, 2, 2, 2, 2, 2,\n",
       "       2, 2, 2, 2, 2, 2, 2, 2, 2, 2, 2, 2, 2, 2, 2, 2, 2, 2, 2, 2, 2, 2,\n",
       "       2, 2, 2, 2, 2, 2, 2, 2, 2, 2, 2, 2, 2, 2, 2, 2, 2, 2, 2, 2, 2, 2,\n",
       "       2, 2, 2, 2, 2, 2, 2, 2, 2, 2, 2, 2, 2, 2, 2, 2, 2, 2, 2, 2, 2, 2,\n",
       "       2, 2, 2, 2, 2, 2, 2, 2, 2, 2, 2, 2, 2, 2, 2, 2, 2, 2, 2, 2, 2, 2,\n",
       "       2, 2, 2, 5, 3, 3, 3, 3, 3, 5, 5, 5, 3, 3, 5, 5, 3, 3, 5, 5, 3, 0,\n",
       "       1, 3, 1, 3, 3, 3, 3, 3, 3, 1, 1, 3, 3, 5, 3, 3, 5, 3, 3, 3, 5, 5,\n",
       "       5, 3, 5, 1, 3, 3, 3, 3, 3, 3, 3, 3, 3, 3, 3, 3, 5, 5, 3, 3, 3, 3,\n",
       "       5, 5, 3, 3, 3, 3, 3, 5, 3, 3, 3, 3, 3, 3, 3, 3, 3, 3, 3, 5, 3, 3,\n",
       "       3, 3, 3, 3, 3, 3, 3, 3, 3, 3, 3, 3, 3, 3, 3, 3, 3, 3, 3, 3, 3, 3,\n",
       "       3, 3, 3, 3, 3, 3, 3, 3, 3, 3, 3, 3, 3, 3, 3, 3, 3, 3, 3, 3, 3, 3,\n",
       "       3, 3, 3, 3, 3, 3, 3, 3, 3, 3, 3, 3, 3, 3, 3, 3, 3, 3, 3, 3, 3, 3,\n",
       "       4, 4, 4, 4, 4, 4, 4, 4, 4, 4, 4, 4, 4, 4, 0, 4, 4, 0, 4, 4, 4, 4,\n",
       "       4, 4, 4, 4, 4, 4, 4, 4, 4, 4, 4, 0, 0, 0, 0, 4, 0, 0, 0, 0, 0, 0,\n",
       "       0, 0, 0, 0, 0, 5, 0, 1, 4, 4, 0, 0, 0, 0, 4, 0, 0, 0, 4, 0, 4, 4,\n",
       "       4, 0, 4, 4, 2, 2, 4, 4, 4, 4, 4, 4, 4, 4, 4, 4, 4, 4, 2, 2, 2, 4,\n",
       "       4, 4, 4, 4, 4, 4, 2, 4, 4, 4, 4, 4, 4, 4, 4, 4, 2, 2, 4, 4, 4, 4,\n",
       "       4, 4, 4, 4, 4, 4, 4, 4, 4, 4, 4, 4, 2, 4, 4, 4, 4, 4, 4, 4, 4, 4,\n",
       "       4, 4, 4, 4, 2, 5, 0, 5, 4, 0, 4, 4, 5, 4, 4, 4, 0, 5, 5, 5, 5, 0,\n",
       "       0, 0, 4, 0, 4, 0, 0, 0, 4, 4, 4, 4, 4, 4, 4, 2, 4, 4, 4, 2, 2, 2,\n",
       "       2, 2, 2, 2, 2, 2, 2, 2, 2, 2, 4, 2, 2, 2, 2, 2, 2, 2, 2, 2, 2, 2,\n",
       "       2, 2, 2, 2, 2, 2, 2, 2, 2, 3, 3, 5, 5, 5, 5, 5, 5, 5, 5, 5, 5, 3,\n",
       "       5, 5, 5, 3, 5, 0, 5, 1, 1, 1, 5, 5, 3, 1, 5, 1, 1, 3, 3, 5, 5, 3,\n",
       "       5, 3, 5, 0, 5, 1, 1, 1, 1, 5, 5, 3, 1, 5, 5, 1, 1, 1, 1, 5, 5, 3,\n",
       "       5, 5, 3, 5, 5, 1, 1, 5, 5, 5, 5, 5, 5, 5, 5, 5, 3, 5, 5, 5, 5, 5,\n",
       "       5, 4, 5, 5, 5, 5, 5, 5, 5, 5, 3, 3, 5, 3, 5, 5, 4, 5, 5, 5, 5, 5,\n",
       "       5, 5, 5, 5, 5, 5, 5, 5, 5, 5, 5, 3, 5, 5, 5, 5, 5, 3, 3, 3, 5, 3,\n",
       "       3, 3, 5, 3, 3, 5, 5, 5, 3, 3, 5, 5, 3, 3, 5, 5, 5, 5, 3, 3, 5, 5,\n",
       "       5, 5, 5, 3, 5, 5, 5, 5, 5, 5, 5, 5, 3, 5, 5, 3, 3, 5, 5, 5, 5, 3,\n",
       "       5, 5, 5, 5, 5, 5, 5, 5, 5, 5, 5, 5, 5])"
      ]
     },
     "execution_count": 14,
     "metadata": {},
     "output_type": "execute_result"
    }
   ],
   "source": [
    "prediction=[]\n",
    "for i in range(m):\n",
    "    dis0=e_dist(ndata[i,:n-1],centroids[0,:n-1])\n",
    "    dis1=e_dist(ndata[i,:n-1],centroids[1,:n-1])\n",
    "    dis2=e_dist(ndata[i,:n-1],centroids[2,:n-1])\n",
    "    dis3=e_dist(ndata[i,:n-1],centroids[3,:n-1])\n",
    "    dis4=e_dist(ndata[i,:n-1],centroids[4,:n-1])\n",
    "    dis5=e_dist(ndata[i,:n-1],centroids[5,:n-1])\n",
    "    min_dist=min(dis0,dis1,dis2,dis3,dis4,dis5)\n",
    "    if dis0==min_dist:\n",
    "        prediction.append(0)\n",
    "    elif dis1==min_dist:\n",
    "        prediction.append(1)\n",
    "    elif dis2==min_dist:\n",
    "        prediction.append(2)\n",
    "    elif dis3==min_dist:\n",
    "        prediction.append(3)\n",
    "    elif dis4==min_dist:\n",
    "        prediction.append(4)\n",
    "    else:\n",
    "        prediction.append(5)\n",
    "prediction=np.array(prediction)\n",
    "prediction"
   ]
  },
  {
   "cell_type": "markdown",
   "id": "c02b552b",
   "metadata": {},
   "source": [
    "### Training Accuracy"
   ]
  },
  {
   "cell_type": "code",
   "execution_count": 15,
   "id": "22ed27b1-f06c-431f-a48b-68d4bf1415fb",
   "metadata": {},
   "outputs": [
    {
     "data": {
      "text/plain": [
       "71.4121699196326"
      ]
     },
     "execution_count": 15,
     "metadata": {},
     "output_type": "execute_result"
    }
   ],
   "source": [
    "accuracy = np.mean(ndata[:,-1] == prediction)\n",
    "accuracy*100"
   ]
  },
  {
   "cell_type": "markdown",
   "id": "a12d98d0-3712-4f6b-8f98-5f4d1d056ebc",
   "metadata": {},
   "source": [
    "## Splitting Train test data"
   ]
  },
  {
   "cell_type": "markdown",
   "id": "35328348-2df5-420b-b584-1b85d6641d47",
   "metadata": {},
   "source": [
    "### 80-20 Split"
   ]
  },
  {
   "cell_type": "code",
   "execution_count": 17,
   "id": "c417f79e",
   "metadata": {},
   "outputs": [],
   "source": [
    "X=df.drop(columns=['Class','class'])\n",
    "Y=df['class']\n",
    "#80% train, 20%test\n",
    "X_train, X_test, Y_train, Y_test = train_test_split(X, Y, test_size=0.2,random_state=42,stratify=Y)"
   ]
  },
  {
   "cell_type": "code",
   "execution_count": 22,
   "id": "dbf2db03",
   "metadata": {},
   "outputs": [],
   "source": [
    "#Convert to Numpy\n",
    "train=pd.concat([X_train,Y_train],axis=1).to_numpy()\n",
    "test=pd.concat([X_test,Y_test],axis=1).to_numpy()"
   ]
  },
  {
   "cell_type": "code",
   "execution_count": 31,
   "id": "31b6e5f9",
   "metadata": {},
   "outputs": [
    {
     "data": {
      "text/plain": [
       "(696, 4)"
      ]
     },
     "execution_count": 31,
     "metadata": {},
     "output_type": "execute_result"
    }
   ],
   "source": [
    "train.shape"
   ]
  },
  {
   "cell_type": "code",
   "execution_count": 32,
   "id": "77be3d4e",
   "metadata": {},
   "outputs": [
    {
     "data": {
      "text/plain": [
       "(175, 4)"
      ]
     },
     "execution_count": 32,
     "metadata": {},
     "output_type": "execute_result"
    }
   ],
   "source": [
    "test.shape"
   ]
  },
  {
   "cell_type": "markdown",
   "id": "ea8bae45-e7c3-446a-b730-04eee1aa9fe7",
   "metadata": {},
   "source": [
    "### Calculating centroids using 80% dataset"
   ]
  },
  {
   "cell_type": "code",
   "execution_count": 23,
   "id": "767c4772-7431-4e51-8adc-17b561f42e2e",
   "metadata": {},
   "outputs": [
    {
     "data": {
      "text/plain": [
       "array([[6.07758621e+02, 1.47155172e+03, 2.39293103e+03, 0.00000000e+00],\n",
       "       [6.97887324e+02, 1.24718310e+03, 2.32676056e+03, 1.00000000e+00],\n",
       "       [3.43138686e+02, 2.19343066e+03, 2.79313869e+03, 2.00000000e+00],\n",
       "       [3.57272727e+02, 9.76446281e+02, 2.49644628e+03, 3.00000000e+00],\n",
       "       [5.06060606e+02, 1.86757576e+03, 2.61309091e+03, 4.00000000e+00],\n",
       "       [4.85069444e+02, 1.05875000e+03, 2.49729167e+03, 5.00000000e+00]])"
      ]
     },
     "execution_count": 23,
     "metadata": {},
     "output_type": "execute_result"
    }
   ],
   "source": [
    "#Define Centroids Array\n",
    "centroids=[0]*k\n",
    "#Centroids calculation\n",
    "for i in range(k):\n",
    "    centroids[i]=np.mean(train[train[:,-1]==i],axis=0)\n",
    "centroids=np.array(centroids)\n",
    "centroids"
   ]
  },
  {
   "cell_type": "markdown",
   "id": "3c6e2fec",
   "metadata": {},
   "source": [
    "### Calculating Training Accuracy"
   ]
  },
  {
   "cell_type": "code",
   "execution_count": 33,
   "id": "eab317cb",
   "metadata": {},
   "outputs": [
    {
     "data": {
      "text/plain": [
       "71.4080459770115"
      ]
     },
     "execution_count": 33,
     "metadata": {},
     "output_type": "execute_result"
    }
   ],
   "source": [
    "prediction=[]\n",
    "for i in range(len(train)):\n",
    "    dis0=e_dist(train[i,:n-1],centroids[0,:n-1])\n",
    "    dis1=e_dist(train[i,:n-1],centroids[1,:n-1])\n",
    "    dis2=e_dist(train[i,:n-1],centroids[2,:n-1])\n",
    "    dis3=e_dist(train[i,:n-1],centroids[3,:n-1])\n",
    "    dis4=e_dist(train[i,:n-1],centroids[4,:n-1])\n",
    "    dis5=e_dist(train[i,:n-1],centroids[5,:n-1])\n",
    "    min_dist=min(dis0,dis1,dis2,dis3,dis4,dis5)\n",
    "    if dis0==min_dist:\n",
    "        prediction.append(0)\n",
    "    elif dis1==min_dist:\n",
    "        prediction.append(1)\n",
    "    elif dis2==min_dist:\n",
    "        prediction.append(2)\n",
    "    elif dis3==min_dist:\n",
    "        prediction.append(3)\n",
    "    elif dis4==min_dist:\n",
    "        prediction.append(4)\n",
    "    else:\n",
    "        prediction.append(5)\n",
    "prediction=np.array(prediction)\n",
    "accuracy = np.mean(train[:,-1] == prediction)\n",
    "accuracy*100"
   ]
  },
  {
   "cell_type": "markdown",
   "id": "9ee49d55",
   "metadata": {},
   "source": [
    "### Calculating Test Accuracy"
   ]
  },
  {
   "cell_type": "code",
   "execution_count": 34,
   "id": "0c7a24ad",
   "metadata": {},
   "outputs": [
    {
     "data": {
      "text/plain": [
       "68.57142857142857"
      ]
     },
     "execution_count": 34,
     "metadata": {},
     "output_type": "execute_result"
    }
   ],
   "source": [
    "prediction=[]\n",
    "for i in range(len(test)):\n",
    "    dis0=e_dist(test[i,:n-1],centroids[0,:n-1])\n",
    "    dis1=e_dist(test[i,:n-1],centroids[1,:n-1])\n",
    "    dis2=e_dist(test[i,:n-1],centroids[2,:n-1])\n",
    "    dis3=e_dist(test[i,:n-1],centroids[3,:n-1])\n",
    "    dis4=e_dist(test[i,:n-1],centroids[4,:n-1])\n",
    "    dis5=e_dist(test[i,:n-1],centroids[5,:n-1])\n",
    "    min_dist=min(dis0,dis1,dis2,dis3,dis4,dis5)\n",
    "    if dis0==min_dist:\n",
    "        prediction.append(0)\n",
    "    elif dis1==min_dist:\n",
    "        prediction.append(1)\n",
    "    elif dis2==min_dist:\n",
    "        prediction.append(2)\n",
    "    elif dis3==min_dist:\n",
    "        prediction.append(3)\n",
    "    elif dis4==min_dist:\n",
    "        prediction.append(4)\n",
    "    else:\n",
    "        prediction.append(5)\n",
    "prediction=np.array(prediction)\n",
    "accuracy = np.mean(test[:,-1] == prediction)\n",
    "accuracy*100"
   ]
  },
  {
   "cell_type": "markdown",
   "id": "fc75fc57",
   "metadata": {},
   "source": [
    "### 70-30 Split"
   ]
  },
  {
   "cell_type": "code",
   "execution_count": 35,
   "id": "4d8f6f4a",
   "metadata": {},
   "outputs": [],
   "source": [
    "X_train, X_test, Y_train, Y_test = train_test_split(X, Y, test_size=0.3,random_state=42,stratify=Y)"
   ]
  },
  {
   "cell_type": "code",
   "execution_count": 36,
   "id": "f269ca98",
   "metadata": {},
   "outputs": [],
   "source": [
    "#Convert to Numpy\n",
    "train=pd.concat([X_train,Y_train],axis=1).to_numpy()\n",
    "test=pd.concat([X_test,Y_test],axis=1).to_numpy()"
   ]
  },
  {
   "cell_type": "markdown",
   "id": "7c74bccb",
   "metadata": {},
   "source": [
    "### Calculating centroids using 70% dataset"
   ]
  },
  {
   "cell_type": "code",
   "execution_count": 37,
   "id": "603dc203",
   "metadata": {},
   "outputs": [
    {
     "data": {
      "text/plain": [
       "array([[6.09000000e+02, 1.47500000e+03, 2.40060000e+03, 0.00000000e+00],\n",
       "       [6.96774194e+02, 1.25322581e+03, 2.33145161e+03, 1.00000000e+00],\n",
       "       [3.42583333e+02, 2.19291667e+03, 2.78991667e+03, 2.00000000e+00],\n",
       "       [3.61603774e+02, 9.75943396e+02, 2.49122642e+03, 3.00000000e+00],\n",
       "       [5.04827586e+02, 1.86793103e+03, 2.62110345e+03, 4.00000000e+00],\n",
       "       [4.83333333e+02, 1.05523810e+03, 2.48873016e+03, 5.00000000e+00]])"
      ]
     },
     "execution_count": 37,
     "metadata": {},
     "output_type": "execute_result"
    }
   ],
   "source": [
    "#Define Centroids Array\n",
    "centroids=[0]*k\n",
    "#Centroids calculation\n",
    "for i in range(k):\n",
    "    centroids[i]=np.mean(train[train[:,-1]==i],axis=0)\n",
    "centroids=np.array(centroids)\n",
    "centroids"
   ]
  },
  {
   "cell_type": "markdown",
   "id": "9e004956",
   "metadata": {},
   "source": [
    "### Calculating Training Accuracy"
   ]
  },
  {
   "cell_type": "code",
   "execution_count": 38,
   "id": "fd6396fe",
   "metadata": {},
   "outputs": [
    {
     "data": {
      "text/plain": [
       "70.44334975369459"
      ]
     },
     "execution_count": 38,
     "metadata": {},
     "output_type": "execute_result"
    }
   ],
   "source": [
    "prediction=[]\n",
    "for i in range(len(train)):\n",
    "    dis0=e_dist(train[i,:n-1],centroids[0,:n-1])\n",
    "    dis1=e_dist(train[i,:n-1],centroids[1,:n-1])\n",
    "    dis2=e_dist(train[i,:n-1],centroids[2,:n-1])\n",
    "    dis3=e_dist(train[i,:n-1],centroids[3,:n-1])\n",
    "    dis4=e_dist(train[i,:n-1],centroids[4,:n-1])\n",
    "    dis5=e_dist(train[i,:n-1],centroids[5,:n-1])\n",
    "    min_dist=min(dis0,dis1,dis2,dis3,dis4,dis5)\n",
    "    if dis0==min_dist:\n",
    "        prediction.append(0)\n",
    "    elif dis1==min_dist:\n",
    "        prediction.append(1)\n",
    "    elif dis2==min_dist:\n",
    "        prediction.append(2)\n",
    "    elif dis3==min_dist:\n",
    "        prediction.append(3)\n",
    "    elif dis4==min_dist:\n",
    "        prediction.append(4)\n",
    "    else:\n",
    "        prediction.append(5)\n",
    "prediction=np.array(prediction)\n",
    "accuracy = np.mean(train[:,-1] == prediction)\n",
    "accuracy*100"
   ]
  },
  {
   "cell_type": "markdown",
   "id": "a1ba45e1",
   "metadata": {},
   "source": [
    "### Calculating Test Accuracy"
   ]
  },
  {
   "cell_type": "code",
   "execution_count": 40,
   "id": "d38b887b",
   "metadata": {},
   "outputs": [
    {
     "data": {
      "text/plain": [
       "70.99236641221374"
      ]
     },
     "execution_count": 40,
     "metadata": {},
     "output_type": "execute_result"
    }
   ],
   "source": [
    "prediction=[]\n",
    "for i in range(len(test)):\n",
    "    dis0=e_dist(test[i,:n-1],centroids[0,:n-1])\n",
    "    dis1=e_dist(test[i,:n-1],centroids[1,:n-1])\n",
    "    dis2=e_dist(test[i,:n-1],centroids[2,:n-1])\n",
    "    dis3=e_dist(test[i,:n-1],centroids[3,:n-1])\n",
    "    dis4=e_dist(test[i,:n-1],centroids[4,:n-1])\n",
    "    dis5=e_dist(test[i,:n-1],centroids[5,:n-1])\n",
    "    min_dist=min(dis0,dis1,dis2,dis3,dis4,dis5)\n",
    "    if dis0==min_dist:\n",
    "        prediction.append(0)\n",
    "    elif dis1==min_dist:\n",
    "        prediction.append(1)\n",
    "    elif dis2==min_dist:\n",
    "        prediction.append(2)\n",
    "    elif dis3==min_dist:\n",
    "        prediction.append(3)\n",
    "    elif dis4==min_dist:\n",
    "        prediction.append(4)\n",
    "    else:\n",
    "        prediction.append(5)\n",
    "prediction=np.array(prediction)\n",
    "accuracy = np.mean(test[:,-1] == prediction)\n",
    "accuracy*100"
   ]
  },
  {
   "cell_type": "markdown",
   "id": "dc535a58",
   "metadata": {},
   "source": [
    "### 60-40 Split"
   ]
  },
  {
   "cell_type": "code",
   "execution_count": 42,
   "id": "b467e310",
   "metadata": {},
   "outputs": [],
   "source": [
    "X_train, X_test, Y_train, Y_test = train_test_split(X, Y, test_size=0.4,random_state=42,stratify=Y)"
   ]
  },
  {
   "cell_type": "code",
   "execution_count": 45,
   "id": "75be418a",
   "metadata": {},
   "outputs": [],
   "source": [
    "#Convert to Numpy\n",
    "train=pd.concat([X_train,Y_train],axis=1).to_numpy()\n",
    "test=pd.concat([X_test,Y_test],axis=1).to_numpy()"
   ]
  },
  {
   "cell_type": "markdown",
   "id": "39fc602c",
   "metadata": {},
   "source": [
    "### Calculating centroids using 60% dataset"
   ]
  },
  {
   "cell_type": "code",
   "execution_count": 46,
   "id": "5e33fdc2",
   "metadata": {},
   "outputs": [
    {
     "data": {
      "text/plain": [
       "array([[6.16279070e+02, 1.47674419e+03, 2.39790698e+03, 0.00000000e+00],\n",
       "       [6.99056604e+02, 1.24716981e+03, 2.33867925e+03, 1.00000000e+00],\n",
       "       [3.42815534e+02, 2.18786408e+03, 2.78155340e+03, 2.00000000e+00],\n",
       "       [3.58791209e+02, 9.69780220e+02, 2.49494505e+03, 3.00000000e+00],\n",
       "       [5.08870968e+02, 1.85564516e+03, 2.62209677e+03, 4.00000000e+00],\n",
       "       [4.82407407e+02, 1.05333333e+03, 2.46805556e+03, 5.00000000e+00]])"
      ]
     },
     "execution_count": 46,
     "metadata": {},
     "output_type": "execute_result"
    }
   ],
   "source": [
    "#Define Centroids Array\n",
    "centroids=[0]*k\n",
    "#Centroids calculation\n",
    "for i in range(k):\n",
    "    centroids[i]=np.mean(train[train[:,-1]==i],axis=0)\n",
    "centroids=np.array(centroids)\n",
    "centroids"
   ]
  },
  {
   "cell_type": "markdown",
   "id": "bc723e65",
   "metadata": {},
   "source": [
    "### Calculating Training Accuracy"
   ]
  },
  {
   "cell_type": "code",
   "execution_count": 47,
   "id": "f456305c",
   "metadata": {},
   "outputs": [
    {
     "data": {
      "text/plain": [
       "71.26436781609196"
      ]
     },
     "execution_count": 47,
     "metadata": {},
     "output_type": "execute_result"
    }
   ],
   "source": [
    "prediction=[]\n",
    "for i in range(len(train)):\n",
    "    dis0=e_dist(train[i,:n-1],centroids[0,:n-1])\n",
    "    dis1=e_dist(train[i,:n-1],centroids[1,:n-1])\n",
    "    dis2=e_dist(train[i,:n-1],centroids[2,:n-1])\n",
    "    dis3=e_dist(train[i,:n-1],centroids[3,:n-1])\n",
    "    dis4=e_dist(train[i,:n-1],centroids[4,:n-1])\n",
    "    dis5=e_dist(train[i,:n-1],centroids[5,:n-1])\n",
    "    min_dist=min(dis0,dis1,dis2,dis3,dis4,dis5)\n",
    "    if dis0==min_dist:\n",
    "        prediction.append(0)\n",
    "    elif dis1==min_dist:\n",
    "        prediction.append(1)\n",
    "    elif dis2==min_dist:\n",
    "        prediction.append(2)\n",
    "    elif dis3==min_dist:\n",
    "        prediction.append(3)\n",
    "    elif dis4==min_dist:\n",
    "        prediction.append(4)\n",
    "    else:\n",
    "        prediction.append(5)\n",
    "prediction=np.array(prediction)\n",
    "accuracy = np.mean(train[:,-1] == prediction)\n",
    "accuracy*100"
   ]
  },
  {
   "cell_type": "markdown",
   "id": "170d3c32",
   "metadata": {},
   "source": [
    "### Calculating Test Accuracy"
   ]
  },
  {
   "cell_type": "code",
   "execution_count": null,
   "id": "6e45d2a0",
   "metadata": {},
   "outputs": [
    {
     "data": {
      "text/plain": [
       "72.77936962750717"
      ]
     },
     "execution_count": 48,
     "metadata": {},
     "output_type": "execute_result"
    }
   ],
   "source": [
    "prediction=[]\n",
    "for i in range(len(test)):\n",
    "    dis0=e_dist(test[i,:n-1],centroids[0,:n-1])\n",
    "    dis1=e_dist(test[i,:n-1],centroids[1,:n-1])\n",
    "    dis2=e_dist(test[i,:n-1],centroids[2,:n-1])\n",
    "    dis3=e_dist(test[i,:n-1],centroids[3,:n-1])\n",
    "    dis4=e_dist(test[i,:n-1],centroids[4,:n-1])\n",
    "    dis5=e_dist(test[i,:n-1],centroids[5,:n-1])\n",
    "    min_dist=min(dis0,dis1,dis2,dis3,dis4,dis5)\n",
    "    if dis0==min_dist:\n",
    "        prediction.append(0)\n",
    "    elif dis1==min_dist:\n",
    "        prediction.append(1)\n",
    "    elif dis2==min_dist:\n",
    "        prediction.append(2)\n",
    "    elif dis3==min_dist:\n",
    "        prediction.append(3)\n",
    "    elif dis4==min_dist:\n",
    "        prediction.append(4)\n",
    "    else:\n",
    "        prediction.append(5)\n",
    "prediction=np.array(prediction)\n",
    "accuracy = np.mean(test[:,-1] == prediction)\n",
    "accuracy*100"
   ]
  },
  {
   "cell_type": "markdown",
   "id": "3a9ed0ab",
   "metadata": {},
   "source": [
    "### 50-50 Split"
   ]
  },
  {
   "cell_type": "code",
   "execution_count": 49,
   "id": "074fd86a",
   "metadata": {},
   "outputs": [],
   "source": [
    "X_train, X_test, Y_train, Y_test = train_test_split(X, Y, test_size=0.5,random_state=42,stratify=Y)"
   ]
  },
  {
   "cell_type": "code",
   "execution_count": 52,
   "id": "c9beac2e",
   "metadata": {},
   "outputs": [],
   "source": [
    "#Convert to Numpy\n",
    "train=pd.concat([X_train,Y_train],axis=1).to_numpy()\n",
    "test=pd.concat([X_test,Y_test],axis=1).to_numpy()"
   ]
  },
  {
   "cell_type": "markdown",
   "id": "55922ac5",
   "metadata": {},
   "source": [
    "### Calculating centroids using 60% dataset"
   ]
  },
  {
   "cell_type": "code",
   "execution_count": 53,
   "id": "ac948c62",
   "metadata": {},
   "outputs": [
    {
     "data": {
      "text/plain": [
       "array([[6.22222222e+02, 1.47222222e+03, 2.38500000e+03, 0.00000000e+00],\n",
       "       [6.97777778e+02, 1.24333333e+03, 2.34222222e+03, 1.00000000e+00],\n",
       "       [3.41395349e+02, 2.19244186e+03, 2.79848837e+03, 2.00000000e+00],\n",
       "       [3.56666667e+02, 9.67333333e+02, 2.48946667e+03, 3.00000000e+00],\n",
       "       [5.12135922e+02, 1.84320388e+03, 2.61349515e+03, 4.00000000e+00],\n",
       "       [4.81111111e+02, 1.04400000e+03, 2.46588889e+03, 5.00000000e+00]])"
      ]
     },
     "execution_count": 53,
     "metadata": {},
     "output_type": "execute_result"
    }
   ],
   "source": [
    "#Define Centroids Array\n",
    "centroids=[0]*k\n",
    "#Centroids calculation\n",
    "for i in range(k):\n",
    "    centroids[i]=np.mean(train[train[:,-1]==i],axis=0)\n",
    "centroids=np.array(centroids)\n",
    "centroids"
   ]
  },
  {
   "cell_type": "markdown",
   "id": "d719f574",
   "metadata": {},
   "source": [
    "### Calculating Training Accuracy"
   ]
  },
  {
   "cell_type": "code",
   "execution_count": 54,
   "id": "5f68f1a1",
   "metadata": {},
   "outputs": [
    {
     "data": {
      "text/plain": [
       "72.8735632183908"
      ]
     },
     "execution_count": 54,
     "metadata": {},
     "output_type": "execute_result"
    }
   ],
   "source": [
    "prediction=[]\n",
    "for i in range(len(train)):\n",
    "    dis0=e_dist(train[i,:n-1],centroids[0,:n-1])\n",
    "    dis1=e_dist(train[i,:n-1],centroids[1,:n-1])\n",
    "    dis2=e_dist(train[i,:n-1],centroids[2,:n-1])\n",
    "    dis3=e_dist(train[i,:n-1],centroids[3,:n-1])\n",
    "    dis4=e_dist(train[i,:n-1],centroids[4,:n-1])\n",
    "    dis5=e_dist(train[i,:n-1],centroids[5,:n-1])\n",
    "    min_dist=min(dis0,dis1,dis2,dis3,dis4,dis5)\n",
    "    if dis0==min_dist:\n",
    "        prediction.append(0)\n",
    "    elif dis1==min_dist:\n",
    "        prediction.append(1)\n",
    "    elif dis2==min_dist:\n",
    "        prediction.append(2)\n",
    "    elif dis3==min_dist:\n",
    "        prediction.append(3)\n",
    "    elif dis4==min_dist:\n",
    "        prediction.append(4)\n",
    "    else:\n",
    "        prediction.append(5)\n",
    "prediction=np.array(prediction)\n",
    "accuracy = np.mean(train[:,-1] == prediction)\n",
    "accuracy*100"
   ]
  },
  {
   "cell_type": "markdown",
   "id": "34d98dac",
   "metadata": {},
   "source": [
    "### Calculating Test Accuracy"
   ]
  },
  {
   "cell_type": "code",
   "execution_count": 55,
   "id": "6f0695f0",
   "metadata": {},
   "outputs": [
    {
     "data": {
      "text/plain": [
       "73.39449541284404"
      ]
     },
     "execution_count": 55,
     "metadata": {},
     "output_type": "execute_result"
    }
   ],
   "source": [
    "prediction=[]\n",
    "for i in range(len(test)):\n",
    "    dis0=e_dist(test[i,:n-1],centroids[0,:n-1])\n",
    "    dis1=e_dist(test[i,:n-1],centroids[1,:n-1])\n",
    "    dis2=e_dist(test[i,:n-1],centroids[2,:n-1])\n",
    "    dis3=e_dist(test[i,:n-1],centroids[3,:n-1])\n",
    "    dis4=e_dist(test[i,:n-1],centroids[4,:n-1])\n",
    "    dis5=e_dist(test[i,:n-1],centroids[5,:n-1])\n",
    "    min_dist=min(dis0,dis1,dis2,dis3,dis4,dis5)\n",
    "    if dis0==min_dist:\n",
    "        prediction.append(0)\n",
    "    elif dis1==min_dist:\n",
    "        prediction.append(1)\n",
    "    elif dis2==min_dist:\n",
    "        prediction.append(2)\n",
    "    elif dis3==min_dist:\n",
    "        prediction.append(3)\n",
    "    elif dis4==min_dist:\n",
    "        prediction.append(4)\n",
    "    else:\n",
    "        prediction.append(5)\n",
    "prediction=np.array(prediction)\n",
    "accuracy = np.mean(test[:,-1] == prediction)\n",
    "accuracy*100"
   ]
  }
 ],
 "metadata": {
  "kernelspec": {
   "display_name": "Python 3",
   "language": "python",
   "name": "python3"
  },
  "language_info": {
   "codemirror_mode": {
    "name": "ipython",
    "version": 3
   },
   "file_extension": ".py",
   "mimetype": "text/x-python",
   "name": "python",
   "nbconvert_exporter": "python",
   "pygments_lexer": "ipython3",
   "version": "3.12.4"
  }
 },
 "nbformat": 4,
 "nbformat_minor": 5
}
