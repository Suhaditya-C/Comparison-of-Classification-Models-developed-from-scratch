{
 "cells": [
  {
   "cell_type": "markdown",
   "id": "f558bb1a-827c-4b96-8e5e-6ad781705986",
   "metadata": {},
   "source": [
    "# Bayes Classifier on Vowel DataSet\n",
    "\n",
    "This data set consists of 871 patterns (rows). There are six overlapping \n",
    "vowel classes (Indian Telugu vowel sounds in column 1) and three input \n",
    "features (formant frequencies in columns 2-4). All entries are integers.\n",
    "\n",
    "If you use this data please quote the following reference.\n",
    "\n",
    "S. K. Pal and D. Dutta Majumder, ``Fuzzy sets and decision making approaches \n",
    "in vowel and speaker recognition'', IEEE Transactions on Systems, Man, \n",
    "and Cybernetics, Vol. 7, pp. 625-629, 1977."
   ]
  },
  {
   "cell_type": "markdown",
   "id": "a6fcf7dc-5274-4032-8f50-651daf82e659",
   "metadata": {},
   "source": [
    "## Importing Dependencies"
   ]
  },
  {
   "cell_type": "code",
   "execution_count": 21,
   "id": "d744c381-5563-44b2-98fc-8072e35efaf1",
   "metadata": {},
   "outputs": [
    {
     "name": "stdout",
     "output_type": "stream",
     "text": [
      "Collecting pingouin\n",
      "  Downloading pingouin-0.5.5-py3-none-any.whl.metadata (19 kB)\n",
      "Requirement already satisfied: matplotlib in c:\\users\\suhaditya chakrabort\\appdata\\local\\programs\\python\\python312\\lib\\site-packages (from pingouin) (3.9.1)\n",
      "Requirement already satisfied: numpy in c:\\users\\suhaditya chakrabort\\appdata\\local\\programs\\python\\python312\\lib\\site-packages (from pingouin) (1.26.4)\n",
      "Requirement already satisfied: pandas>=1.5 in c:\\users\\suhaditya chakrabort\\appdata\\local\\programs\\python\\python312\\lib\\site-packages (from pingouin) (2.2.2)\n",
      "Collecting pandas-flavor (from pingouin)\n",
      "  Downloading pandas_flavor-0.6.0-py3-none-any.whl.metadata (6.3 kB)\n",
      "Requirement already satisfied: scikit-learn>=1.2 in c:\\users\\suhaditya chakrabort\\appdata\\local\\programs\\python\\python312\\lib\\site-packages (from pingouin) (1.5.2)\n",
      "Requirement already satisfied: scipy in c:\\users\\suhaditya chakrabort\\appdata\\local\\programs\\python\\python312\\lib\\site-packages (from pingouin) (1.11.4)\n",
      "Requirement already satisfied: seaborn in c:\\users\\suhaditya chakrabort\\appdata\\local\\programs\\python\\python312\\lib\\site-packages (from pingouin) (0.13.2)\n",
      "Requirement already satisfied: statsmodels in c:\\users\\suhaditya chakrabort\\appdata\\local\\programs\\python\\python312\\lib\\site-packages (from pingouin) (0.14.4)\n",
      "Collecting tabulate (from pingouin)\n",
      "  Downloading tabulate-0.9.0-py3-none-any.whl.metadata (34 kB)\n",
      "Requirement already satisfied: python-dateutil>=2.8.2 in c:\\users\\suhaditya chakrabort\\appdata\\local\\programs\\python\\python312\\lib\\site-packages (from pandas>=1.5->pingouin) (2.9.0.post0)\n",
      "Requirement already satisfied: pytz>=2020.1 in c:\\users\\suhaditya chakrabort\\appdata\\local\\programs\\python\\python312\\lib\\site-packages (from pandas>=1.5->pingouin) (2024.1)\n",
      "Requirement already satisfied: tzdata>=2022.7 in c:\\users\\suhaditya chakrabort\\appdata\\local\\programs\\python\\python312\\lib\\site-packages (from pandas>=1.5->pingouin) (2024.1)\n",
      "Requirement already satisfied: joblib>=1.2.0 in c:\\users\\suhaditya chakrabort\\appdata\\local\\programs\\python\\python312\\lib\\site-packages (from scikit-learn>=1.2->pingouin) (1.4.2)\n",
      "Requirement already satisfied: threadpoolctl>=3.1.0 in c:\\users\\suhaditya chakrabort\\appdata\\local\\programs\\python\\python312\\lib\\site-packages (from scikit-learn>=1.2->pingouin) (3.5.0)\n",
      "Requirement already satisfied: contourpy>=1.0.1 in c:\\users\\suhaditya chakrabort\\appdata\\local\\programs\\python\\python312\\lib\\site-packages (from matplotlib->pingouin) (1.2.1)\n",
      "Requirement already satisfied: cycler>=0.10 in c:\\users\\suhaditya chakrabort\\appdata\\local\\programs\\python\\python312\\lib\\site-packages (from matplotlib->pingouin) (0.12.1)\n",
      "Requirement already satisfied: fonttools>=4.22.0 in c:\\users\\suhaditya chakrabort\\appdata\\local\\programs\\python\\python312\\lib\\site-packages (from matplotlib->pingouin) (4.53.1)\n",
      "Requirement already satisfied: kiwisolver>=1.3.1 in c:\\users\\suhaditya chakrabort\\appdata\\local\\programs\\python\\python312\\lib\\site-packages (from matplotlib->pingouin) (1.4.5)\n",
      "Requirement already satisfied: packaging>=20.0 in c:\\users\\suhaditya chakrabort\\appdata\\local\\programs\\python\\python312\\lib\\site-packages (from matplotlib->pingouin) (24.2)\n",
      "Requirement already satisfied: pillow>=8 in c:\\users\\suhaditya chakrabort\\appdata\\local\\programs\\python\\python312\\lib\\site-packages (from matplotlib->pingouin) (10.4.0)\n",
      "Requirement already satisfied: pyparsing>=2.3.1 in c:\\users\\suhaditya chakrabort\\appdata\\local\\programs\\python\\python312\\lib\\site-packages (from matplotlib->pingouin) (3.1.2)\n",
      "Collecting xarray (from pandas-flavor->pingouin)\n",
      "  Downloading xarray-2025.3.0-py3-none-any.whl.metadata (12 kB)\n",
      "Requirement already satisfied: patsy>=0.5.6 in c:\\users\\suhaditya chakrabort\\appdata\\local\\programs\\python\\python312\\lib\\site-packages (from statsmodels->pingouin) (1.0.1)\n",
      "Requirement already satisfied: six>=1.5 in c:\\users\\suhaditya chakrabort\\appdata\\local\\programs\\python\\python312\\lib\\site-packages (from python-dateutil>=2.8.2->pandas>=1.5->pingouin) (1.17.0)\n",
      "Downloading pingouin-0.5.5-py3-none-any.whl (204 kB)\n",
      "   ---------------------------------------- 0.0/204.4 kB ? eta -:--:--\n",
      "   ------ --------------------------------- 30.7/204.4 kB ? eta -:--:--\n",
      "   ------- ------------------------------- 41.0/204.4 kB 991.0 kB/s eta 0:00:01\n",
      "   ------------- ------------------------- 71.7/204.4 kB 660.6 kB/s eta 0:00:01\n",
      "   ----------------- --------------------- 92.2/204.4 kB 655.4 kB/s eta 0:00:01\n",
      "   -------------------------- ----------- 143.4/204.4 kB 711.9 kB/s eta 0:00:01\n",
      "   -------------------------------- ----- 174.1/204.4 kB 751.6 kB/s eta 0:00:01\n",
      "   -------------------------------------- 204.4/204.4 kB 690.8 kB/s eta 0:00:00\n",
      "Downloading pandas_flavor-0.6.0-py3-none-any.whl (7.2 kB)\n",
      "Downloading tabulate-0.9.0-py3-none-any.whl (35 kB)\n",
      "Downloading xarray-2025.3.0-py3-none-any.whl (1.3 MB)\n",
      "   ---------------------------------------- 0.0/1.3 MB ? eta -:--:--\n",
      "   - -------------------------------------- 0.1/1.3 MB 3.2 MB/s eta 0:00:01\n",
      "   ---- ----------------------------------- 0.2/1.3 MB 3.1 MB/s eta 0:00:01\n",
      "   ----- ---------------------------------- 0.2/1.3 MB 1.9 MB/s eta 0:00:01\n",
      "   --------- ------------------------------ 0.3/1.3 MB 1.7 MB/s eta 0:00:01\n",
      "   ---------- ----------------------------- 0.3/1.3 MB 1.8 MB/s eta 0:00:01\n",
      "   ------------- -------------------------- 0.4/1.3 MB 1.8 MB/s eta 0:00:01\n",
      "   --------------- ------------------------ 0.5/1.3 MB 1.7 MB/s eta 0:00:01\n",
      "   ------------------- -------------------- 0.6/1.3 MB 1.6 MB/s eta 0:00:01\n",
      "   -------------------- ------------------- 0.6/1.3 MB 1.7 MB/s eta 0:00:01\n",
      "   ------------------------ --------------- 0.8/1.3 MB 1.7 MB/s eta 0:00:01\n",
      "   ------------------------- -------------- 0.8/1.3 MB 1.6 MB/s eta 0:00:01\n",
      "   ----------------------------- ---------- 0.9/1.3 MB 1.7 MB/s eta 0:00:01\n",
      "   -------------------------------- ------- 1.0/1.3 MB 1.8 MB/s eta 0:00:01\n",
      "   ------------------------------------ --- 1.1/1.3 MB 1.8 MB/s eta 0:00:01\n",
      "   ------------------------------------- -- 1.2/1.3 MB 1.8 MB/s eta 0:00:01\n",
      "   ---------------------------------------  1.3/1.3 MB 1.8 MB/s eta 0:00:01\n",
      "   ---------------------------------------- 1.3/1.3 MB 1.7 MB/s eta 0:00:00\n",
      "Installing collected packages: tabulate, xarray, pandas-flavor, pingouin\n",
      "Successfully installed pandas-flavor-0.6.0 pingouin-0.5.5 tabulate-0.9.0 xarray-2025.3.0\n",
      "Note: you may need to restart the kernel to use updated packages.\n"
     ]
    },
    {
     "name": "stderr",
     "output_type": "stream",
     "text": [
      "\n",
      "[notice] A new release of pip is available: 24.1.2 -> 25.0.1\n",
      "[notice] To update, run: python.exe -m pip install --upgrade pip\n"
     ]
    }
   ],
   "source": [
    "pip install pingouin"
   ]
  },
  {
   "cell_type": "code",
   "execution_count": 2,
   "id": "0df9c733-135d-420e-bf84-8d80cbeee9c1",
   "metadata": {},
   "outputs": [],
   "source": [
    "import pandas as pd\n",
    "import numpy as np\n",
    "from sklearn.model_selection import train_test_split\n",
    "import matplotlib.pyplot as plt\n",
    "import scipy.stats as stats\n",
    "from scipy.stats import chi2\n",
    "from pingouin import multivariate_normality\n",
    "from statsmodels.stats.diagnostic import normal_ad"
   ]
  },
  {
   "cell_type": "code",
   "execution_count": 15,
   "id": "12ea48e2-a94d-4f83-94c6-a6db080adc58",
   "metadata": {},
   "outputs": [
    {
     "data": {
      "text/html": [
       "<div>\n",
       "<style scoped>\n",
       "    .dataframe tbody tr th:only-of-type {\n",
       "        vertical-align: middle;\n",
       "    }\n",
       "\n",
       "    .dataframe tbody tr th {\n",
       "        vertical-align: top;\n",
       "    }\n",
       "\n",
       "    .dataframe thead th {\n",
       "        text-align: right;\n",
       "    }\n",
       "</style>\n",
       "<table border=\"1\" class=\"dataframe\">\n",
       "  <thead>\n",
       "    <tr style=\"text-align: right;\">\n",
       "      <th></th>\n",
       "      <th>Class</th>\n",
       "      <th>F1</th>\n",
       "      <th>F2</th>\n",
       "      <th>F3</th>\n",
       "    </tr>\n",
       "  </thead>\n",
       "  <tbody>\n",
       "    <tr>\n",
       "      <th>215</th>\n",
       "      <td>3</td>\n",
       "      <td>300</td>\n",
       "      <td>2250</td>\n",
       "      <td>3000</td>\n",
       "    </tr>\n",
       "    <tr>\n",
       "      <th>867</th>\n",
       "      <td>6</td>\n",
       "      <td>500</td>\n",
       "      <td>1000</td>\n",
       "      <td>3000</td>\n",
       "    </tr>\n",
       "    <tr>\n",
       "      <th>146</th>\n",
       "      <td>2</td>\n",
       "      <td>750</td>\n",
       "      <td>1100</td>\n",
       "      <td>2200</td>\n",
       "    </tr>\n",
       "    <tr>\n",
       "      <th>605</th>\n",
       "      <td>5</td>\n",
       "      <td>400</td>\n",
       "      <td>2000</td>\n",
       "      <td>2600</td>\n",
       "    </tr>\n",
       "    <tr>\n",
       "      <th>474</th>\n",
       "      <td>4</td>\n",
       "      <td>350</td>\n",
       "      <td>850</td>\n",
       "      <td>2600</td>\n",
       "    </tr>\n",
       "  </tbody>\n",
       "</table>\n",
       "</div>"
      ],
      "text/plain": [
       "     Class   F1    F2    F3\n",
       "215      3  300  2250  3000\n",
       "867      6  500  1000  3000\n",
       "146      2  750  1100  2200\n",
       "605      5  400  2000  2600\n",
       "474      4  350   850  2600"
      ]
     },
     "execution_count": 15,
     "metadata": {},
     "output_type": "execute_result"
    }
   ],
   "source": [
    "df=pd.read_csv('Vowel.csv')\n",
    "df.head()\n",
    "df.sample(5)"
   ]
  },
  {
   "cell_type": "code",
   "execution_count": 16,
   "id": "7bf55722-015b-4130-9637-7d6d8872376e",
   "metadata": {},
   "outputs": [
    {
     "data": {
      "text/plain": [
       "Class\n",
       "5    207\n",
       "6    180\n",
       "3    172\n",
       "4    151\n",
       "2     89\n",
       "1     72\n",
       "Name: count, dtype: int64"
      ]
     },
     "execution_count": 16,
     "metadata": {},
     "output_type": "execute_result"
    }
   ],
   "source": [
    "df.value_counts('Class')"
   ]
  },
  {
   "cell_type": "markdown",
   "id": "a3d06655-154a-45cd-8dbd-344e96f93f2d",
   "metadata": {},
   "source": [
    "Remark: This is an unbalanced dataset"
   ]
  },
  {
   "cell_type": "markdown",
   "id": "1c667bac-072c-42d0-a634-5038509db6c7",
   "metadata": {},
   "source": [
    "## Separate Class wise data for checking normality"
   ]
  },
  {
   "cell_type": "code",
   "execution_count": 23,
   "id": "72adf04b-c4b6-439a-ac90-07bafbb89d84",
   "metadata": {},
   "outputs": [
    {
     "data": {
      "text/plain": [
       "array([[ 700, 1500, 2600],\n",
       "       [ 550, 1550, 2400],\n",
       "       [ 700, 1500, 2600],\n",
       "       [ 700, 1600, 2700],\n",
       "       [ 550, 1600, 2600]], dtype=int64)"
      ]
     },
     "execution_count": 23,
     "metadata": {},
     "output_type": "execute_result"
    }
   ],
   "source": [
    "df.head()\n",
    "class1=df[df['Class']==1].iloc[:,1:].to_numpy()\n",
    "class2=df[df['Class']==2].iloc[:,1:].to_numpy()\n",
    "class3=df[df['Class']==3].iloc[:,1:].to_numpy()\n",
    "class4=df[df['Class']==4].iloc[:,1:].to_numpy()\n",
    "class5=df[df['Class']==5].iloc[:,1:].to_numpy()\n",
    "class6=df[df['Class']==6].iloc[:,1:].to_numpy()\n",
    "class1[:5]"
   ]
  },
  {
   "cell_type": "markdown",
   "id": "ee668cdc-94ae-4ada-b70c-a9fd4eafe0f9",
   "metadata": {
    "jp-MarkdownHeadingCollapsed": true
   },
   "source": [
    "## Check for Normality (Classwise)"
   ]
  },
  {
   "cell_type": "code",
   "execution_count": 25,
   "id": "73d9bbcf-219e-4262-9fd2-7db5d3660ad2",
   "metadata": {},
   "outputs": [
    {
     "data": {
      "image/png": "[encoded data removed]",
      "text/plain": [
       "<Figure size 640x480 with 1 Axes>"
      ]
     },
     "metadata": {},
     "output_type": "display_data"
    }
   ],
   "source": [
    "# Q-Q Plot for Mahalanobis Distances ---\n",
    "# Compute Mahalanobis distances\n",
    "mean_vec = np.mean(class1, axis=0)\n",
    "cov_mat = np.cov(class1, rowvar=False)\n",
    "inv_cov_mat = np.linalg.inv(cov_mat)\n",
    "distances = np.array([np.dot(np.dot((x - mean_vec), inv_cov_mat), (x - mean_vec).T) for x in class1])\n",
    "\n",
    "# Q-Q Plot\n",
    "stats.probplot(distances, dist=\"chi2\", sparams=(3,), plot=plt)\n",
    "plt.title(\"Q-Q Plot for Mahalanobis Distances\")\n",
    "plt.show()"
   ]
  },
  {
   "cell_type": "markdown",
   "id": "cafe4706-c558-4905-9a75-f41546def714",
   "metadata": {},
   "source": [
    "### Class1"
   ]
  },
  {
   "cell_type": "code",
   "execution_count": 25,
   "id": "fc4f20bc-19f1-4e31-b57f-a00df3e7673a",
   "metadata": {},
   "outputs": [
    {
     "data": {
      "image/png": "[encoded data removed]",
      "text/plain": [
       "<Figure size 640x480 with 1 Axes>"
      ]
     },
     "metadata": {},
     "output_type": "display_data"
    }
   ],
   "source": [
    "# Q-Q Plot for Mahalanobis Distances ---\n",
    "# Compute Mahalanobis distances\n",
    "mean_vec = np.mean(class1, axis=0)\n",
    "cov_mat = np.cov(class1, rowvar=False)\n",
    "inv_cov_mat = np.linalg.inv(cov_mat)\n",
    "distances = np.array([np.dot(np.dot((x - mean_vec), inv_cov_mat), (x - mean_vec).T) for x in class1])\n",
    "\n",
    "# Q-Q Plot\n",
    "stats.probplot(distances, dist=\"chi2\", sparams=(3,), plot=plt)\n",
    "plt.title(\"Q-Q Plot for Mahalanobis Distances\")\n",
    "plt.show()"
   ]
  },
  {
   "cell_type": "code",
   "execution_count": 28,
   "id": "0a752fe1-31e8-4d10-8eaa-d2dc7af36eb1",
   "metadata": {},
   "outputs": [],
   "source": [
    "def mvnorm(x,mean,cov):\n",
    "    # no. of predictors\n",
    "    p=X.shape[1]\n",
    "    #Mahalanobis Distance-D2\n",
    "    inv_cov = np.linalg.inv(cov)\n",
    "    D2 = (x - mean)@ inv_cov @ (x - mean).T\n",
    "    fx = 1 / (((2 * np.pi)**(p / 2)) * (np.linalg.det(cov)**0.5))*np.exp(-0.5*D2)\n",
    "    return fx"
   ]
  },
  {
   "cell_type": "markdown",
   "id": "80a7bd3b-e0c7-430f-83dc-2a8fa4d2cfec",
   "metadata": {},
   "source": [
    "### Class2"
   ]
  },
  {
   "cell_type": "code",
   "execution_count": 33,
   "id": "2951e2c3-9d67-4a59-a148-758f439269f8",
   "metadata": {
    "scrolled": true
   },
   "outputs": [
    {
     "data": {
      "image/png": "[encoded data removed]",
      "text/plain": [
       "<Figure size 640x480 with 1 Axes>"
      ]
     },
     "metadata": {},
     "output_type": "display_data"
    }
   ],
   "source": [
    "# Q-Q Plot for Mahalanobis Distances ---\n",
    "# Compute Mahalanobis distances\n",
    "mean_vec = np.mean(class2, axis=0)\n",
    "cov_mat = np.cov(class2, rowvar=False)\n",
    "inv_cov_mat = np.linalg.inv(cov_mat)\n",
    "distances = np.array([np.dot(np.dot((x - mean_vec), inv_cov_mat), (x - mean_vec).T) for x in class2])\n",
    "\n",
    "# Q-Q Plot\n",
    "stats.probplot(distances, dist=\"chi2\", sparams=(3,), plot=plt)\n",
    "plt.title(\"Q-Q Plot for Mahalanobis Distances\")\n",
    "plt.show()"
   ]
  },
  {
   "cell_type": "markdown",
   "id": "53ce173d-52ca-451c-aa41-11d15a040c6e",
   "metadata": {},
   "source": [
    "### Class3"
   ]
  },
  {
   "cell_type": "code",
   "execution_count": 34,
   "id": "99a1a947-e3fa-4ed9-8866-31a85170cd5d",
   "metadata": {
    "scrolled": true
   },
   "outputs": [
    {
     "data": {
      "image/png": "[encoded data removed]",
      "text/plain": [
       "<Figure size 640x480 with 1 Axes>"
      ]
     },
     "metadata": {},
     "output_type": "display_data"
    }
   ],
   "source": [
    "# Q-Q Plot for Mahalanobis Distances ---\n",
    "# Compute Mahalanobis distances\n",
    "mean_vec = np.mean(class3, axis=0)\n",
    "cov_mat = np.cov(class3, rowvar=False)\n",
    "inv_cov_mat = np.linalg.inv(cov_mat)\n",
    "distances = np.array([np.dot(np.dot((x - mean_vec), inv_cov_mat), (x - mean_vec).T) for x in class3])\n",
    "\n",
    "# Q-Q Plot\n",
    "stats.probplot(distances, dist=\"chi2\", sparams=(3,), plot=plt)\n",
    "plt.title(\"Q-Q Plot for Mahalanobis Distances\")\n",
    "plt.show()"
   ]
  },
  {
   "cell_type": "markdown",
   "id": "f8ab7a32-22e0-495f-9adb-9505cadc8ff4",
   "metadata": {},
   "source": [
    "### Class4"
   ]
  },
  {
   "cell_type": "code",
   "execution_count": 35,
   "id": "42085534-f223-4e32-90ff-6cbe3dc3ea0c",
   "metadata": {
    "scrolled": true
   },
   "outputs": [
    {
     "data": {
      "image/png": "[encoded data removed]",
      "text/plain": [
       "<Figure size 640x480 with 1 Axes>"
      ]
     },
     "metadata": {},
     "output_type": "display_data"
    }
   ],
   "source": [
    "# Q-Q Plot for Mahalanobis Distances ---\n",
    "# Compute Mahalanobis distances\n",
    "mean_vec = np.mean(class4, axis=0)\n",
    "cov_mat = np.cov(class4, rowvar=False)\n",
    "inv_cov_mat = np.linalg.inv(cov_mat)\n",
    "distances = np.array([np.dot(np.dot((x - mean_vec), inv_cov_mat), (x - mean_vec).T) for x in class4])\n",
    "\n",
    "# Q-Q Plot\n",
    "stats.probplot(distances, dist=\"chi2\", sparams=(3,), plot=plt)\n",
    "plt.title(\"Q-Q Plot for Mahalanobis Distances\")\n",
    "plt.show()"
   ]
  },
  {
   "cell_type": "markdown",
   "id": "0ddf239c-12b2-4820-96e0-e35cbfc2df71",
   "metadata": {},
   "source": [
    "### Class5"
   ]
  },
  {
   "cell_type": "code",
   "execution_count": 36,
   "id": "d284409e-f487-4533-88ae-e8e9c96f7faf",
   "metadata": {},
   "outputs": [
    {
     "data": {
      "image/png": "[encoded data removed]",
      "text/plain": [
       "<Figure size 640x480 with 1 Axes>"
      ]
     },
     "metadata": {},
     "output_type": "display_data"
    }
   ],
   "source": [
    "# Q-Q Plot for Mahalanobis Distances ---\n",
    "# Compute Mahalanobis distances\n",
    "mean_vec = np.mean(class5, axis=0)\n",
    "cov_mat = np.cov(class5, rowvar=False)\n",
    "inv_cov_mat = np.linalg.inv(cov_mat)\n",
    "distances = np.array([np.dot(np.dot((x - mean_vec), inv_cov_mat), (x - mean_vec).T) for x in class5])\n",
    "\n",
    "# Q-Q Plot\n",
    "stats.probplot(distances, dist=\"chi2\", sparams=(3,), plot=plt)\n",
    "plt.title(\"Q-Q Plot for Mahalanobis Distances\")\n",
    "plt.show()"
   ]
  },
  {
   "cell_type": "markdown",
   "id": "e5f3e739-4942-4fe8-9cee-7c90a5a0aa51",
   "metadata": {},
   "source": [
    "### Class6"
   ]
  },
  {
   "cell_type": "code",
   "execution_count": 37,
   "id": "a653b172-e54b-47f0-af55-0062163217b6",
   "metadata": {},
   "outputs": [
    {
     "data": {
      "image/png": "[encoded data removed]",
      "text/plain": [
       "<Figure size 640x480 with 1 Axes>"
      ]
     },
     "metadata": {},
     "output_type": "display_data"
    }
   ],
   "source": [
    "# Q-Q Plot for Mahalanobis Distances ---\n",
    "# Compute Mahalanobis distances\n",
    "mean_vec = np.mean(class6, axis=0)\n",
    "cov_mat = np.cov(class6, rowvar=False)\n",
    "inv_cov_mat = np.linalg.inv(cov_mat)\n",
    "distances = np.array([np.dot(np.dot((x - mean_vec), inv_cov_mat), (x - mean_vec).T) for x in class6])\n",
    "\n",
    "# Q-Q Plot\n",
    "stats.probplot(distances, dist=\"chi2\", sparams=(3,), plot=plt)\n",
    "plt.title(\"Q-Q Plot for Mahalanobis Distances\")\n",
    "plt.show()"
   ]
  },
  {
   "cell_type": "markdown",
   "id": "edb60199-4310-4a59-b174-a094e03e1b1b",
   "metadata": {},
   "source": [
    "## Multivariate Normal Distribution Function"
   ]
  },
  {
   "cell_type": "code",
   "execution_count": 38,
   "id": "c4849cb1-fa07-46c3-9068-6a37ab1af60c",
   "metadata": {},
   "outputs": [],
   "source": [
    "def mvnorm(x,mean,cov):\n",
    "    # no. of predictors\n",
    "    p=X.shape[1]\n",
    "    #Mahalanobis Distance-D2\n",
    "    inv_cov = np.linalg.inv(cov)\n",
    "    D2 = (x - mean)@ inv_cov @ (x - mean).T\n",
    "    fx = 1 / (((2 * np.pi)**(p / 2)) * (np.linalg.det(cov)**0.5))*np.exp(-0.5*D2)\n",
    "    return fx"
   ]
  },
  {
   "cell_type": "markdown",
   "id": "4c40b366-5c63-459b-85c3-fd99c40dcbab",
   "metadata": {},
   "source": [
    "## Separate Predictors and Response"
   ]
  },
  {
   "cell_type": "code",
   "execution_count": 44,
   "id": "fc6f4b62-d5b9-46ef-87d2-0432592ec8cf",
   "metadata": {},
   "outputs": [
    {
     "data": {
      "text/html": [
       "<div>\n",
       "<style scoped>\n",
       "    .dataframe tbody tr th:only-of-type {\n",
       "        vertical-align: middle;\n",
       "    }\n",
       "\n",
       "    .dataframe tbody tr th {\n",
       "        vertical-align: top;\n",
       "    }\n",
       "\n",
       "    .dataframe thead th {\n",
       "        text-align: right;\n",
       "    }\n",
       "</style>\n",
       "<table border=\"1\" class=\"dataframe\">\n",
       "  <thead>\n",
       "    <tr style=\"text-align: right;\">\n",
       "      <th></th>\n",
       "      <th>F1</th>\n",
       "      <th>F2</th>\n",
       "      <th>F3</th>\n",
       "    </tr>\n",
       "  </thead>\n",
       "  <tbody>\n",
       "    <tr>\n",
       "      <th>0</th>\n",
       "      <td>700</td>\n",
       "      <td>1500</td>\n",
       "      <td>2600</td>\n",
       "    </tr>\n",
       "    <tr>\n",
       "      <th>1</th>\n",
       "      <td>550</td>\n",
       "      <td>1550</td>\n",
       "      <td>2400</td>\n",
       "    </tr>\n",
       "    <tr>\n",
       "      <th>2</th>\n",
       "      <td>700</td>\n",
       "      <td>1500</td>\n",
       "      <td>2600</td>\n",
       "    </tr>\n",
       "    <tr>\n",
       "      <th>3</th>\n",
       "      <td>700</td>\n",
       "      <td>1600</td>\n",
       "      <td>2700</td>\n",
       "    </tr>\n",
       "    <tr>\n",
       "      <th>4</th>\n",
       "      <td>550</td>\n",
       "      <td>1600</td>\n",
       "      <td>2600</td>\n",
       "    </tr>\n",
       "  </tbody>\n",
       "</table>\n",
       "</div>"
      ],
      "text/plain": [
       "    F1    F2    F3\n",
       "0  700  1500  2600\n",
       "1  550  1550  2400\n",
       "2  700  1500  2600\n",
       "3  700  1600  2700\n",
       "4  550  1600  2600"
      ]
     },
     "execution_count": 44,
     "metadata": {},
     "output_type": "execute_result"
    }
   ],
   "source": [
    "X=df.drop(columns=['Class'])\n",
    "Y=df['Class']\n",
    "X.head()"
   ]
  },
  {
   "cell_type": "markdown",
   "id": "e8f05af7-155a-400c-9331-5b7f516f5c79",
   "metadata": {},
   "source": [
    "## Calculate Distribution Parameters-- Mean Vectors and Covariance Matrix"
   ]
  },
  {
   "cell_type": "code",
   "execution_count": 47,
   "id": "481d0b8e-7769-4315-8235-fe2179d3ca2c",
   "metadata": {},
   "outputs": [
    {
     "data": {
      "text/plain": [
       "array([[ 6079.32316119, -2880.47730829, -1807.41392801],\n",
       "       [-2880.47730829, 36077.85602504,  9160.60250391],\n",
       "       [-1807.41392801,  9160.60250391, 28581.20109546]])"
      ]
     },
     "execution_count": 47,
     "metadata": {},
     "output_type": "execute_result"
    }
   ],
   "source": [
    "#Calculate Covariance Matrix\n",
    "cov1=X[Y==1].cov().to_numpy()\n",
    "cov2=X[Y==2].cov().to_numpy()\n",
    "cov3=X[Y==3].cov().to_numpy()\n",
    "cov4=X[Y==4].cov().to_numpy()\n",
    "cov5=X[Y==5].cov().to_numpy()\n",
    "cov6=X[Y==6].cov().to_numpy()\n",
    "cov1"
   ]
  },
  {
   "cell_type": "code",
   "execution_count": 49,
   "id": "81350cea-7e25-4b53-a9a0-f0900ccccfc8",
   "metadata": {},
   "outputs": [
    {
     "data": {
      "text/html": [
       "<div>\n",
       "<style scoped>\n",
       "    .dataframe tbody tr th:only-of-type {\n",
       "        vertical-align: middle;\n",
       "    }\n",
       "\n",
       "    .dataframe tbody tr th {\n",
       "        vertical-align: top;\n",
       "    }\n",
       "\n",
       "    .dataframe thead th {\n",
       "        text-align: right;\n",
       "    }\n",
       "</style>\n",
       "<table border=\"1\" class=\"dataframe\">\n",
       "  <thead>\n",
       "    <tr style=\"text-align: right;\">\n",
       "      <th></th>\n",
       "      <th>F1</th>\n",
       "      <th>F2</th>\n",
       "      <th>F3</th>\n",
       "    </tr>\n",
       "    <tr>\n",
       "      <th>Class</th>\n",
       "      <th></th>\n",
       "      <th></th>\n",
       "      <th></th>\n",
       "    </tr>\n",
       "  </thead>\n",
       "  <tbody>\n",
       "    <tr>\n",
       "      <th>1</th>\n",
       "      <td>603.472222</td>\n",
       "      <td>1468.055556</td>\n",
       "      <td>2379.305556</td>\n",
       "    </tr>\n",
       "    <tr>\n",
       "      <th>2</th>\n",
       "      <td>698.314607</td>\n",
       "      <td>1240.449438</td>\n",
       "      <td>2338.202247</td>\n",
       "    </tr>\n",
       "    <tr>\n",
       "      <th>3</th>\n",
       "      <td>342.209302</td>\n",
       "      <td>2202.034884</td>\n",
       "      <td>2805.058140</td>\n",
       "    </tr>\n",
       "    <tr>\n",
       "      <th>4</th>\n",
       "      <td>358.145695</td>\n",
       "      <td>978.476821</td>\n",
       "      <td>2494.503311</td>\n",
       "    </tr>\n",
       "    <tr>\n",
       "      <th>5</th>\n",
       "      <td>504.830918</td>\n",
       "      <td>1866.570048</td>\n",
       "      <td>2617.439614</td>\n",
       "    </tr>\n",
       "    <tr>\n",
       "      <th>6</th>\n",
       "      <td>481.944444</td>\n",
       "      <td>1057.277778</td>\n",
       "      <td>2501.611111</td>\n",
       "    </tr>\n",
       "  </tbody>\n",
       "</table>\n",
       "</div>"
      ],
      "text/plain": [
       "               F1           F2           F3\n",
       "Class                                      \n",
       "1      603.472222  1468.055556  2379.305556\n",
       "2      698.314607  1240.449438  2338.202247\n",
       "3      342.209302  2202.034884  2805.058140\n",
       "4      358.145695   978.476821  2494.503311\n",
       "5      504.830918  1866.570048  2617.439614\n",
       "6      481.944444  1057.277778  2501.611111"
      ]
     },
     "execution_count": 49,
     "metadata": {},
     "output_type": "execute_result"
    }
   ],
   "source": [
    "#Calculating class wise Mean Vectors\n",
    "mean_vectors = df.groupby('Class')[['F1', 'F2', 'F3']].mean() #Class wise mean vectors\n",
    "mean_vectors"
   ]
  },
  {
   "cell_type": "code",
   "execution_count": 50,
   "id": "9b4b75a6-26a0-48a7-b053-96c89059205c",
   "metadata": {},
   "outputs": [
    {
     "data": {
      "text/plain": [
       "array([ 603.47222222, 1468.05555556, 2379.30555556])"
      ]
     },
     "execution_count": 50,
     "metadata": {},
     "output_type": "execute_result"
    }
   ],
   "source": [
    "mv_1 = mean_vectors.loc[1].to_numpy()  # Mean vector for class 1\n",
    "mv_2 = mean_vectors.loc[2].to_numpy()  # Mean vector for class 2\n",
    "mv_3 = mean_vectors.loc[3].to_numpy()  # Mean vector for class 3\n",
    "mv_4 = mean_vectors.loc[4].to_numpy()  # Mean vector for class 4\n",
    "mv_5 = mean_vectors.loc[5].to_numpy()  # Mean vector for class 5\n",
    "mv_6 = mean_vectors.loc[6].to_numpy()  # Mean vector for class 6\n",
    "mv_1 #view mean vector for class 1"
   ]
  },
  {
   "cell_type": "code",
   "execution_count": 54,
   "id": "45cac893-821f-4791-911e-b23d76299f3f",
   "metadata": {},
   "outputs": [
    {
     "data": {
      "text/plain": [
       "array([ 700, 1500, 2600], dtype=int64)"
      ]
     },
     "execution_count": 54,
     "metadata": {},
     "output_type": "execute_result"
    }
   ],
   "source": [
    "x=X.iloc[0].to_numpy()\n",
    "x"
   ]
  },
  {
   "cell_type": "code",
   "execution_count": 55,
   "id": "55b016f7-8eb7-49d0-aba3-f94ac2f1dedb",
   "metadata": {},
   "outputs": [
    {
     "data": {
      "text/plain": [
       "4.1503053812912e-09"
      ]
     },
     "execution_count": 55,
     "metadata": {},
     "output_type": "execute_result"
    }
   ],
   "source": [
    "#Checking invocation of MVNorm function\n",
    "mvnorm(x,mv_1,cov1)"
   ]
  },
  {
   "cell_type": "markdown",
   "id": "fcc04de6-1f0b-464d-bfb0-adea6a100ae6",
   "metadata": {},
   "source": [
    "## Calculating apriori probabilities for Bayesian Classifier"
   ]
  },
  {
   "cell_type": "code",
   "execution_count": 56,
   "id": "924c941f-ff10-408a-b9a0-c909495cb7a6",
   "metadata": {},
   "outputs": [
    {
     "data": {
      "text/plain": [
       "(871, 4)"
      ]
     },
     "execution_count": 56,
     "metadata": {},
     "output_type": "execute_result"
    }
   ],
   "source": [
    "df.shape"
   ]
  },
  {
   "cell_type": "code",
   "execution_count": 57,
   "id": "5de302e3-0943-445d-a3a1-f770c432c97b",
   "metadata": {},
   "outputs": [],
   "source": [
    "p1=df[df['Class']==1].shape[0]/df.shape[0]\n",
    "p2=df[df['Class']==2].shape[0]/df.shape[0]\n",
    "p3=df[df['Class']==3].shape[0]/df.shape[0]\n",
    "p4=df[df['Class']==4].shape[0]/df.shape[0]\n",
    "p5=df[df['Class']==5].shape[0]/df.shape[0]\n",
    "p6=df[df['Class']==6].shape[0]/df.shape[0]"
   ]
  },
  {
   "cell_type": "code",
   "execution_count": 61,
   "id": "3b595b48-882a-4043-8b0b-72e6cae7461b",
   "metadata": {},
   "outputs": [
    {
     "data": {
      "text/plain": [
       "0.23765786452353616"
      ]
     },
     "execution_count": 61,
     "metadata": {},
     "output_type": "execute_result"
    }
   ],
   "source": [
    "p5"
   ]
  },
  {
   "cell_type": "markdown",
   "id": "b620813e-f30d-41c4-9c5f-db29c5e4d09b",
   "metadata": {},
   "source": [
    "## Using entire dataset for training"
   ]
  },
  {
   "cell_type": "code",
   "execution_count": 63,
   "id": "50bb8700-6fda-4381-956b-fd1abedb5a53",
   "metadata": {},
   "outputs": [
    {
     "data": {
      "text/plain": [
       "array([1., 1., 1., 5., 5.])"
      ]
     },
     "execution_count": 63,
     "metadata": {},
     "output_type": "execute_result"
    }
   ],
   "source": [
    "vars=X.to_numpy()\n",
    "y=np.array([])\n",
    "for var in vars:\n",
    "    prob1=mvnorm(var,mv_1,cov1)*p1\n",
    "    prob2=mvnorm(var,mv_2,cov2)*p2\n",
    "    prob3=mvnorm(var,mv_3,cov3)*p3\n",
    "    prob4=mvnorm(var,mv_4,cov4)*p4\n",
    "    prob5=mvnorm(var,mv_5,cov5)*p5\n",
    "    prob6=mvnorm(var,mv_6,cov6)*p6\n",
    "    if prob1==max(prob1,prob2,prob3,prob4,prob5,prob6):\n",
    "        y=np.append(y,1)\n",
    "    elif prob2==max(prob1,prob2,prob3,prob4,prob5,prob6):\n",
    "        y=np.append(y,2)\n",
    "    elif prob3==max(prob1,prob2,prob3,prob4,prob5,prob6):\n",
    "        y=np.append(y,3)\n",
    "    elif prob4==max(prob1,prob2,prob3,prob4,prob5,prob6):\n",
    "        y=np.append(y,4)\n",
    "    elif prob5==max(prob1,prob2,prob3,prob4,prob5,prob6):\n",
    "        y=np.append(y,5)\n",
    "    else:\n",
    "        y=np.append(y,6)\n",
    "y[:5]"
   ]
  },
  {
   "cell_type": "markdown",
   "id": "a2aea329-49be-4bcd-9878-30e5af0506a8",
   "metadata": {},
   "source": [
    "### Calculating Training Accuracy"
   ]
  },
  {
   "cell_type": "code",
   "execution_count": 65,
   "id": "22ed27b1-f06c-431f-a48b-68d4bf1415fb",
   "metadata": {},
   "outputs": [
    {
     "data": {
      "text/plain": [
       "80.25258323765786"
      ]
     },
     "execution_count": 65,
     "metadata": {},
     "output_type": "execute_result"
    }
   ],
   "source": [
    "accuracy = np.mean(y == Y.to_numpy())\n",
    "accuracy*100"
   ]
  },
  {
   "cell_type": "markdown",
   "id": "a12d98d0-3712-4f6b-8f98-5f4d1d056ebc",
   "metadata": {},
   "source": [
    "## Splitting Train test data"
   ]
  },
  {
   "cell_type": "markdown",
   "id": "35328348-2df5-420b-b584-1b85d6641d47",
   "metadata": {},
   "source": [
    "### 80-20 Split"
   ]
  },
  {
   "cell_type": "code",
   "execution_count": 91,
   "id": "fbe543e8-0fbf-499c-85c2-7220ea72d7f3",
   "metadata": {},
   "outputs": [],
   "source": [
    "#80% train, 20%test\n",
    "X_train, X_test, Y_train, Y_test = train_test_split(X, Y, test_size=0.2,random_state=42,stratify=Y)"
   ]
  },
  {
   "cell_type": "markdown",
   "id": "ea8bae45-e7c3-446a-b730-04eee1aa9fe7",
   "metadata": {},
   "source": [
    "#### Calculating parameters for train data"
   ]
  },
  {
   "cell_type": "code",
   "execution_count": 92,
   "id": "767c4772-7431-4e51-8adc-17b561f42e2e",
   "metadata": {},
   "outputs": [
    {
     "data": {
      "text/plain": [
       "array([ 607.75862069, 1471.55172414, 2392.93103448])"
      ]
     },
     "execution_count": 92,
     "metadata": {},
     "output_type": "execute_result"
    }
   ],
   "source": [
    "#Calculating class wise Mean Vectors for 80% data\n",
    "mv_1 = np.mean(X_train[Y_train==1],axis=0).to_numpy() # Mean vector for class 1\n",
    "mv_2 = np.mean(X_train[Y_train==2],axis=0).to_numpy() # Mean vector for class 2\n",
    "mv_3 = np.mean(X_train[Y_train==3],axis=0).to_numpy() # Mean vector for class 3\n",
    "mv_4 = np.mean(X_train[Y_train==4],axis=0).to_numpy() # Mean vector for class 4\n",
    "mv_5 = np.mean(X_train[Y_train==5],axis=0).to_numpy() # Mean vector for class 5\n",
    "mv_6 = np.mean(X_train[Y_train==6],axis=0).to_numpy() # Mean vector for class 6\n",
    "mv_1 #view mean vector for class 1"
   ]
  },
  {
   "cell_type": "code",
   "execution_count": 93,
   "id": "6a275d29-5ca1-425b-a491-f9f08e1c173c",
   "metadata": {},
   "outputs": [
    {
     "data": {
      "text/plain": [
       "array([[ 3170.22327179, -1126.28810648, -2705.51202233],\n",
       "       [-1126.28810648, 29919.7617003 , 27859.00601116],\n",
       "       [-2705.51202233, 27859.00601116, 45504.0468012 ]])"
      ]
     },
     "execution_count": 93,
     "metadata": {},
     "output_type": "execute_result"
    }
   ],
   "source": [
    "#Calculate Class wise Covariance Matrix\n",
    "cov1=X_train[Y_train==1].cov().to_numpy()\n",
    "cov2=X_train[Y_train==2].cov().to_numpy()\n",
    "cov3=X_train[Y_train==3].cov().to_numpy()\n",
    "cov4=X_train[Y_train==4].cov().to_numpy()\n",
    "cov5=X_train[Y_train==5].cov().to_numpy()\n",
    "cov6=X_train[Y_train==6].cov().to_numpy()\n",
    "cov3"
   ]
  },
  {
   "cell_type": "markdown",
   "id": "80c13eff-0126-4676-a145-46a59b663e28",
   "metadata": {},
   "source": [
    "#### Calculating prior probabilities"
   ]
  },
  {
   "cell_type": "code",
   "execution_count": 94,
   "id": "ea6c3380-25ac-47c1-b565-4bdab23ef987",
   "metadata": {},
   "outputs": [
    {
     "data": {
      "text/plain": [
       "0.23706896551724138"
      ]
     },
     "execution_count": 94,
     "metadata": {},
     "output_type": "execute_result"
    }
   ],
   "source": [
    "p1=(Y_train==1).sum()/Y_train.shape[0]\n",
    "p2=(Y_train==2).sum()/Y_train.shape[0]\n",
    "p3=(Y_train==3).sum()/Y_train.shape[0]\n",
    "p4=(Y_train==4).sum()/Y_train.shape[0]\n",
    "p5=(Y_train==5).sum()/Y_train.shape[0]\n",
    "p6=(Y_train==6).sum()/Y_train.shape[0]\n",
    "p5"
   ]
  },
  {
   "cell_type": "markdown",
   "id": "5ac84eaf-f4b0-4d94-8b46-c84b261afab9",
   "metadata": {},
   "source": [
    "#### Calculating training accuracy"
   ]
  },
  {
   "cell_type": "code",
   "execution_count": 95,
   "id": "ec644949-80f0-447c-a887-47cc501f84b8",
   "metadata": {},
   "outputs": [
    {
     "data": {
      "text/plain": [
       "80.74712643678161"
      ]
     },
     "execution_count": 95,
     "metadata": {},
     "output_type": "execute_result"
    }
   ],
   "source": [
    "vars=X_train.to_numpy()\n",
    "y_train=np.array([])\n",
    "for var in vars:\n",
    "    prob1=mvnorm(var,mv_1,cov1)*p1\n",
    "    prob2=mvnorm(var,mv_2,cov2)*p2\n",
    "    prob3=mvnorm(var,mv_3,cov3)*p3\n",
    "    prob4=mvnorm(var,mv_4,cov3)*p4\n",
    "    prob5=mvnorm(var,mv_5,cov5)*p5\n",
    "    prob6=mvnorm(var,mv_6,cov6)*p6\n",
    "    if prob1==max(prob1,prob2,prob3,prob4,prob5,prob6):\n",
    "        y_train=np.append(y_train,1)\n",
    "    elif prob2==max(prob1,prob2,prob3,prob4,prob5,prob6):\n",
    "        y_train=np.append(y_train,2)\n",
    "    elif prob3==max(prob1,prob2,prob3,prob4,prob5,prob6):\n",
    "        y_train=np.append(y_train,3)\n",
    "    elif prob4==max(prob1,prob2,prob3,prob4,prob5,prob6):\n",
    "        y_train=np.append(y_train,4)\n",
    "    elif prob5==max(prob1,prob2,prob3,prob4,prob5,prob6):\n",
    "        y_train=np.append(y_train,5)\n",
    "    else:\n",
    "        y_train=np.append(y_train,6)\n",
    "y_train\n",
    "accuracy=np.mean(y_train==Y_train)\n",
    "accuracy*100"
   ]
  },
  {
   "cell_type": "markdown",
   "id": "44c6bd16-e61d-46d4-92da-e59ac91681d4",
   "metadata": {},
   "source": [
    "#### Using the 20% test data"
   ]
  },
  {
   "cell_type": "code",
   "execution_count": 101,
   "id": "23e82882-4654-4406-8596-f4e2acbf3ed2",
   "metadata": {},
   "outputs": [
    {
     "data": {
      "text/plain": [
       "array([1., 3., 6., 3., 4., 5., 6., 4., 3., 6., 5., 3., 6., 4., 3., 3., 1.,\n",
       "       4., 3., 6., 5., 3., 5., 6., 3., 6., 3., 6., 6., 2., 1., 4., 5., 5.,\n",
       "       4., 4., 4., 4., 3., 5., 2., 4., 2., 6., 5., 3., 4., 4., 4., 5., 1.,\n",
       "       4., 3., 6., 6., 4., 3., 6., 5., 4., 2., 5., 5., 3., 6., 6., 5., 4.,\n",
       "       1., 1., 3., 6., 3., 5., 1., 4., 6., 5., 5., 4., 2., 4., 5., 5., 4.,\n",
       "       3., 5., 3., 4., 4., 6., 5., 4., 1., 3., 5., 6., 4., 3., 6., 6., 5.,\n",
       "       6., 5., 2., 6., 2., 2., 3., 3., 3., 5., 6., 3., 6., 5., 1., 6., 3.,\n",
       "       2., 5., 6., 3., 5., 4., 3., 2., 4., 4., 5., 4., 2., 6., 4., 5., 2.,\n",
       "       6., 4., 6., 5., 2., 3., 6., 5., 2., 4., 2., 3., 6., 5., 3., 3., 3.,\n",
       "       6., 1., 3., 2., 1., 3., 5., 6., 5., 5., 4., 4., 2., 2., 4., 4., 6.,\n",
       "       1., 3., 4., 3., 6.])"
      ]
     },
     "execution_count": 101,
     "metadata": {},
     "output_type": "execute_result"
    }
   ],
   "source": [
    "vars=X_test.to_numpy()\n",
    "y_pred=np.array([])\n",
    "for var in vars:\n",
    "    prob1=mvnorm(var,mv_1,cov1)*p1\n",
    "    prob2=mvnorm(var,mv_2,cov2)*p2\n",
    "    prob3=mvnorm(var,mv_3,cov3)*p3\n",
    "    prob4=mvnorm(var,mv_4,cov4)*p4\n",
    "    prob5=mvnorm(var,mv_5,cov5)*p5\n",
    "    prob6=mvnorm(var,mv_6,cov6)*p6\n",
    "    if prob1==max(prob1,prob2,prob3,prob4,prob5,prob6):\n",
    "        y_pred=np.append(y_pred,1)\n",
    "    elif prob2==max(prob1,prob2,prob3,prob4,prob5,prob6):\n",
    "        y_pred=np.append(y_pred,2)\n",
    "    elif prob3==max(prob1,prob2,prob3,prob4,prob5,prob6):\n",
    "        y_pred=np.append(y_pred,3)\n",
    "    elif prob4==max(prob1,prob2,prob3,prob4,prob5,prob6):\n",
    "        y_pred=np.append(y_pred,4)\n",
    "    elif prob5==max(prob1,prob2,prob3,prob4,prob5,prob6):\n",
    "        y_pred=np.append(y_pred,5)\n",
    "    else:\n",
    "        y_pred=np.append(y_pred,6)\n",
    "y_pred"
   ]
  },
  {
   "cell_type": "markdown",
   "id": "2270dfbb-cbbd-425f-afb3-493d2c28261b",
   "metadata": {},
   "source": [
    "#### Calculating test accuracy"
   ]
  },
  {
   "cell_type": "code",
   "execution_count": 102,
   "id": "8bd3dc0d-72c8-43d6-90c2-145d995ca3ad",
   "metadata": {
    "scrolled": true
   },
   "outputs": [
    {
     "data": {
      "text/plain": [
       "78.85714285714286"
      ]
     },
     "execution_count": 102,
     "metadata": {},
     "output_type": "execute_result"
    }
   ],
   "source": [
    "accuracy=np.mean(y_pred==Y_test)\n",
    "accuracy*100"
   ]
  },
  {
   "cell_type": "markdown",
   "id": "605c1a66-0dd3-4628-831f-207ff7b3fba3",
   "metadata": {},
   "source": [
    "### 70-30 Split"
   ]
  },
  {
   "cell_type": "code",
   "execution_count": 104,
   "id": "1e2dd4b7-d5fe-49d8-b67b-dbfc71947d82",
   "metadata": {},
   "outputs": [],
   "source": [
    "#70% train, 30%test\n",
    "X_train, X_test, Y_train, Y_test = train_test_split(X, Y, test_size=0.3, random_state=42,stratify=Y)"
   ]
  },
  {
   "cell_type": "markdown",
   "id": "b4428f5a-7d51-4247-8554-e6495913549d",
   "metadata": {},
   "source": [
    "#### Calculating parameters for train data"
   ]
  },
  {
   "cell_type": "code",
   "execution_count": 105,
   "id": "79868846-1adb-4337-a5ac-479acd7de565",
   "metadata": {},
   "outputs": [
    {
     "data": {
      "text/plain": [
       "array([ 609. , 1475. , 2400.6])"
      ]
     },
     "execution_count": 105,
     "metadata": {},
     "output_type": "execute_result"
    }
   ],
   "source": [
    "#Calculating class wise Mean Vectors for 80% data\n",
    "mv_1 = np.mean(X_train[Y_train==1],axis=0).to_numpy() # Mean vector for class 1\n",
    "mv_2 = np.mean(X_train[Y_train==2],axis=0).to_numpy() # Mean vector for class 2\n",
    "mv_3 = np.mean(X_train[Y_train==3],axis=0).to_numpy() # Mean vector for class 3\n",
    "mv_4 = np.mean(X_train[Y_train==4],axis=0).to_numpy() # Mean vector for class 4\n",
    "mv_5 = np.mean(X_train[Y_train==5],axis=0).to_numpy() # Mean vector for class 5\n",
    "mv_6 = np.mean(X_train[Y_train==6],axis=0).to_numpy() # Mean vector for class 6\n",
    "mv_1 #view mean vector for class 1"
   ]
  },
  {
   "cell_type": "code",
   "execution_count": 106,
   "id": "729ad8a3-7012-476e-881d-5d9da142b4a0",
   "metadata": {},
   "outputs": [
    {
     "data": {
      "text/plain": [
       "array([[ 3348.732493  ,  -847.09383754, -2793.90056022],\n",
       "       [ -847.09383754, 27407.38795518, 26133.85854342],\n",
       "       [-2793.90056022, 26133.85854342, 44195.79131653]])"
      ]
     },
     "execution_count": 106,
     "metadata": {},
     "output_type": "execute_result"
    }
   ],
   "source": [
    "#Calculate Class wise Covariance Matrix\n",
    "cov1=X_train[Y_train==1].cov().to_numpy()\n",
    "cov2=X_train[Y_train==2].cov().to_numpy()\n",
    "cov3=X_train[Y_train==3].cov().to_numpy()\n",
    "cov4=X_train[Y_train==4].cov().to_numpy()\n",
    "cov5=X_train[Y_train==5].cov().to_numpy()\n",
    "cov6=X_train[Y_train==6].cov().to_numpy()\n",
    "cov3"
   ]
  },
  {
   "cell_type": "markdown",
   "id": "e448a208-49f9-4f16-afaa-4ddcc93a63ad",
   "metadata": {},
   "source": [
    "#### Calculating prior probabilities"
   ]
  },
  {
   "cell_type": "code",
   "execution_count": 107,
   "id": "2590e808-0dba-466d-9744-bf88a8f9c9b8",
   "metadata": {},
   "outputs": [
    {
     "data": {
      "text/plain": [
       "0.23809523809523808"
      ]
     },
     "execution_count": 107,
     "metadata": {},
     "output_type": "execute_result"
    }
   ],
   "source": [
    "p1=(Y_train==1).sum()/Y_train.shape[0]\n",
    "p2=(Y_train==2).sum()/Y_train.shape[0]\n",
    "p3=(Y_train==3).sum()/Y_train.shape[0]\n",
    "p4=(Y_train==4).sum()/Y_train.shape[0]\n",
    "p5=(Y_train==5).sum()/Y_train.shape[0]\n",
    "p6=(Y_train==6).sum()/Y_train.shape[0]\n",
    "p5"
   ]
  },
  {
   "cell_type": "markdown",
   "id": "47167853-46fd-40d2-8936-5db77afec326",
   "metadata": {},
   "source": [
    "#### Calculating training accuracy"
   ]
  },
  {
   "cell_type": "code",
   "execution_count": 108,
   "id": "94dab585-6499-4ef8-bebf-e0a8fa3ceec0",
   "metadata": {},
   "outputs": [
    {
     "data": {
      "text/plain": [
       "81.11658456486043"
      ]
     },
     "execution_count": 108,
     "metadata": {},
     "output_type": "execute_result"
    }
   ],
   "source": [
    "vars=X_train.to_numpy()\n",
    "y_train=np.array([])\n",
    "for var in vars:\n",
    "    prob1=mvnorm(var,mv_1,cov1)*p1\n",
    "    prob2=mvnorm(var,mv_2,cov2)*p2\n",
    "    prob3=mvnorm(var,mv_3,cov3)*p3\n",
    "    prob4=mvnorm(var,mv_4,cov3)*p4\n",
    "    prob5=mvnorm(var,mv_5,cov5)*p5\n",
    "    prob6=mvnorm(var,mv_6,cov6)*p6\n",
    "    if prob1==max(prob1,prob2,prob3,prob4,prob5,prob6):\n",
    "        y_train=np.append(y_train,1)\n",
    "    elif prob2==max(prob1,prob2,prob3,prob4,prob5,prob6):\n",
    "        y_train=np.append(y_train,2)\n",
    "    elif prob3==max(prob1,prob2,prob3,prob4,prob5,prob6):\n",
    "        y_train=np.append(y_train,3)\n",
    "    elif prob4==max(prob1,prob2,prob3,prob4,prob5,prob6):\n",
    "        y_train=np.append(y_train,4)\n",
    "    elif prob5==max(prob1,prob2,prob3,prob4,prob5,prob6):\n",
    "        y_train=np.append(y_train,5)\n",
    "    else:\n",
    "        y_train=np.append(y_train,6)\n",
    "y_train\n",
    "accuracy=np.mean(y_train==Y_train)\n",
    "accuracy*100"
   ]
  },
  {
   "cell_type": "markdown",
   "id": "f29c3958-d8c4-4f5b-b59f-74a37e8b8a81",
   "metadata": {},
   "source": [
    "#### Using the 30% test data"
   ]
  },
  {
   "cell_type": "code",
   "execution_count": 109,
   "id": "d0a79c6a-d981-4749-86e2-29ebf8eaaf13",
   "metadata": {},
   "outputs": [
    {
     "data": {
      "text/plain": [
       "array([6., 4., 6., 4., 1., 1., 4., 3., 5., 1., 3., 5., 2., 4., 3., 4., 2.,\n",
       "       2., 5., 5., 6., 3., 4., 3., 3., 6., 1., 3., 5., 4., 5., 2., 4., 4.,\n",
       "       5., 4., 4., 5., 6., 4., 2., 5., 5., 3., 6., 2., 4., 6., 5., 2., 3.,\n",
       "       6., 2., 5., 5., 4., 3., 4., 3., 4., 5., 2., 3., 5., 6., 4., 6., 4.,\n",
       "       5., 4., 6., 2., 4., 3., 2., 3., 2., 6., 4., 4., 1., 6., 3., 3., 1.,\n",
       "       4., 6., 5., 4., 4., 1., 5., 5., 4., 5., 2., 3., 4., 3., 3., 2., 6.,\n",
       "       4., 6., 4., 6., 1., 6., 6., 5., 3., 3., 1., 4., 4., 5., 5., 2., 3.,\n",
       "       5., 3., 5., 2., 4., 4., 6., 3., 6., 6., 3., 6., 6., 5., 3., 6., 6.,\n",
       "       6., 5., 4., 6., 3., 1., 4., 3., 4., 3., 3., 5., 4., 3., 6., 4., 1.,\n",
       "       4., 5., 2., 5., 5., 2., 3., 1., 5., 3., 5., 1., 5., 5., 6., 4., 2.,\n",
       "       2., 3., 5., 6., 5., 5., 5., 3., 6., 6., 6., 4., 6., 5., 2., 6., 3.,\n",
       "       3., 3., 5., 3., 5., 5., 2., 3., 6., 4., 5., 3., 6., 3., 4., 3., 6.,\n",
       "       2., 6., 4., 3., 6., 5., 2., 5., 6., 3., 2., 5., 4., 3., 5., 4., 3.,\n",
       "       2., 6., 4., 6., 5., 4., 2., 6., 1., 5., 5., 5., 3., 6., 5., 5., 4.,\n",
       "       2., 6., 4., 3., 1., 4., 1., 3., 3., 4., 5., 3., 3., 6., 4., 4., 1.,\n",
       "       6., 4., 5., 2., 2., 4., 3.])"
      ]
     },
     "execution_count": 109,
     "metadata": {},
     "output_type": "execute_result"
    }
   ],
   "source": [
    "vars=X_test.to_numpy()\n",
    "y_pred=np.array([])\n",
    "for var in vars:\n",
    "    prob1=mvnorm(var,mv_1,cov1)*p1\n",
    "    prob2=mvnorm(var,mv_2,cov2)*p2\n",
    "    prob3=mvnorm(var,mv_3,cov3)*p3\n",
    "    prob4=mvnorm(var,mv_4,cov4)*p4\n",
    "    prob5=mvnorm(var,mv_5,cov5)*p5\n",
    "    prob6=mvnorm(var,mv_6,cov6)*p6\n",
    "    if prob1==max(prob1,prob2,prob3,prob4,prob5,prob6):\n",
    "        y_pred=np.append(y_pred,1)\n",
    "    elif prob2==max(prob1,prob2,prob3,prob4,prob5,prob6):\n",
    "        y_pred=np.append(y_pred,2)\n",
    "    elif prob3==max(prob1,prob2,prob3,prob4,prob5,prob6):\n",
    "        y_pred=np.append(y_pred,3)\n",
    "    elif prob4==max(prob1,prob2,prob3,prob4,prob5,prob6):\n",
    "        y_pred=np.append(y_pred,4)\n",
    "    elif prob5==max(prob1,prob2,prob3,prob4,prob5,prob6):\n",
    "        y_pred=np.append(y_pred,5)\n",
    "    else:\n",
    "        y_pred=np.append(y_pred,6)\n",
    "y_pred"
   ]
  },
  {
   "cell_type": "markdown",
   "id": "14bfdde4-fbf8-44c6-ab09-20f2c5f92521",
   "metadata": {},
   "source": [
    "#### Calculating test accuracy"
   ]
  },
  {
   "cell_type": "code",
   "execution_count": 110,
   "id": "6d8d6b04-5829-487f-90af-680aae05586c",
   "metadata": {
    "scrolled": true
   },
   "outputs": [
    {
     "data": {
      "text/plain": [
       "79.38931297709924"
      ]
     },
     "execution_count": 110,
     "metadata": {},
     "output_type": "execute_result"
    }
   ],
   "source": [
    "accuracy=np.mean(y_pred==Y_test)\n",
    "accuracy*100"
   ]
  },
  {
   "cell_type": "markdown",
   "id": "1ed340aa-885d-4a8e-8885-3678c974158b",
   "metadata": {},
   "source": [
    "### 60-40 Split"
   ]
  },
  {
   "cell_type": "code",
   "execution_count": 111,
   "id": "e51f14cb-73d2-4781-8027-c8f87efc3a38",
   "metadata": {},
   "outputs": [],
   "source": [
    "#60% train, 40%test\n",
    "X_train, X_test, Y_train, Y_test = train_test_split(X, Y, test_size=0.4, random_state=42,stratify=Y)"
   ]
  },
  {
   "cell_type": "markdown",
   "id": "41c54c5d-8cfa-4311-8c4e-6847d0055aa4",
   "metadata": {},
   "source": [
    "#### Calculating parameters for train data"
   ]
  },
  {
   "cell_type": "code",
   "execution_count": 112,
   "id": "c7aa6696-d5c8-4a0e-8d23-3bc07789f493",
   "metadata": {},
   "outputs": [
    {
     "data": {
      "text/plain": [
       "array([ 616.27906977, 1476.74418605, 2397.90697674])"
      ]
     },
     "execution_count": 112,
     "metadata": {},
     "output_type": "execute_result"
    }
   ],
   "source": [
    "#Calculating class wise Mean Vectors for 80% data\n",
    "mv_1 = np.mean(X_train[Y_train==1],axis=0).to_numpy() # Mean vector for class 1\n",
    "mv_2 = np.mean(X_train[Y_train==2],axis=0).to_numpy() # Mean vector for class 2\n",
    "mv_3 = np.mean(X_train[Y_train==3],axis=0).to_numpy() # Mean vector for class 3\n",
    "mv_4 = np.mean(X_train[Y_train==4],axis=0).to_numpy() # Mean vector for class 4\n",
    "mv_5 = np.mean(X_train[Y_train==5],axis=0).to_numpy() # Mean vector for class 5\n",
    "mv_6 = np.mean(X_train[Y_train==6],axis=0).to_numpy() # Mean vector for class 6\n",
    "mv_1 #view mean vector for class 1"
   ]
  },
  {
   "cell_type": "code",
   "execution_count": 113,
   "id": "3d711c32-bbc9-480a-b4b9-4a1742d6bfbe",
   "metadata": {},
   "outputs": [
    {
     "data": {
      "text/plain": [
       "array([[ 3502.77936417,  -842.94688749, -2908.33809252],\n",
       "       [ -842.94688749, 29434.60879497, 26960.2132115 ],\n",
       "       [-2908.33809252, 26960.2132115 , 44523.05349324]])"
      ]
     },
     "execution_count": 113,
     "metadata": {},
     "output_type": "execute_result"
    }
   ],
   "source": [
    "#Calculate Class wise Covariance Matrix\n",
    "cov1=X_train[Y_train==1].cov().to_numpy()\n",
    "cov2=X_train[Y_train==2].cov().to_numpy()\n",
    "cov3=X_train[Y_train==3].cov().to_numpy()\n",
    "cov4=X_train[Y_train==4].cov().to_numpy()\n",
    "cov5=X_train[Y_train==5].cov().to_numpy()\n",
    "cov6=X_train[Y_train==6].cov().to_numpy()\n",
    "cov3"
   ]
  },
  {
   "cell_type": "markdown",
   "id": "e1118a6e-d99f-43de-81e9-983dcede578e",
   "metadata": {},
   "source": [
    "#### Calculating prior probabilities"
   ]
  },
  {
   "cell_type": "code",
   "execution_count": 114,
   "id": "a773b553-cc4b-4930-ae2a-a702c0eda63f",
   "metadata": {},
   "outputs": [
    {
     "data": {
      "text/plain": [
       "0.23754789272030652"
      ]
     },
     "execution_count": 114,
     "metadata": {},
     "output_type": "execute_result"
    }
   ],
   "source": [
    "p1=(Y_train==1).sum()/Y_train.shape[0]\n",
    "p2=(Y_train==2).sum()/Y_train.shape[0]\n",
    "p3=(Y_train==3).sum()/Y_train.shape[0]\n",
    "p4=(Y_train==4).sum()/Y_train.shape[0]\n",
    "p5=(Y_train==5).sum()/Y_train.shape[0]\n",
    "p6=(Y_train==6).sum()/Y_train.shape[0]\n",
    "p5"
   ]
  },
  {
   "cell_type": "markdown",
   "id": "962b0cad-8acb-4bbe-b18d-64e9736842ea",
   "metadata": {},
   "source": [
    "#### Calculating training accuracy"
   ]
  },
  {
   "cell_type": "code",
   "execution_count": 115,
   "id": "8f7fec21-2c67-4902-936f-afc825773f49",
   "metadata": {},
   "outputs": [
    {
     "data": {
      "text/plain": [
       "82.37547892720306"
      ]
     },
     "execution_count": 115,
     "metadata": {},
     "output_type": "execute_result"
    }
   ],
   "source": [
    "vars=X_train.to_numpy()\n",
    "y_train=np.array([])\n",
    "for var in vars:\n",
    "    prob1=mvnorm(var,mv_1,cov1)*p1\n",
    "    prob2=mvnorm(var,mv_2,cov2)*p2\n",
    "    prob3=mvnorm(var,mv_3,cov3)*p3\n",
    "    prob4=mvnorm(var,mv_4,cov3)*p4\n",
    "    prob5=mvnorm(var,mv_5,cov5)*p5\n",
    "    prob6=mvnorm(var,mv_6,cov6)*p6\n",
    "    if prob1==max(prob1,prob2,prob3,prob4,prob5,prob6):\n",
    "        y_train=np.append(y_train,1)\n",
    "    elif prob2==max(prob1,prob2,prob3,prob4,prob5,prob6):\n",
    "        y_train=np.append(y_train,2)\n",
    "    elif prob3==max(prob1,prob2,prob3,prob4,prob5,prob6):\n",
    "        y_train=np.append(y_train,3)\n",
    "    elif prob4==max(prob1,prob2,prob3,prob4,prob5,prob6):\n",
    "        y_train=np.append(y_train,4)\n",
    "    elif prob5==max(prob1,prob2,prob3,prob4,prob5,prob6):\n",
    "        y_train=np.append(y_train,5)\n",
    "    else:\n",
    "        y_train=np.append(y_train,6)\n",
    "y_train\n",
    "accuracy=np.mean(y_train==Y_train)\n",
    "accuracy*100"
   ]
  },
  {
   "cell_type": "markdown",
   "id": "c0dcda37-680a-4766-a900-12c00054daa4",
   "metadata": {},
   "source": [
    "#### Using the 40% test data"
   ]
  },
  {
   "cell_type": "code",
   "execution_count": 116,
   "id": "421c091a-fe7f-4152-a744-134bf2df3cc5",
   "metadata": {},
   "outputs": [
    {
     "data": {
      "text/plain": [
       "array([5., 3., 5., 5., 2., 6., 4., 3., 3., 6., 4., 6., 2., 6., 3., 4., 2.,\n",
       "       6., 4., 4., 5., 3., 3., 4., 3., 1., 4., 5., 6., 4., 5., 2., 3., 3.,\n",
       "       5., 3., 3., 5., 6., 5., 2., 6., 6., 5., 4., 1., 5., 5., 4., 5., 1.,\n",
       "       4., 2., 4., 4., 3., 6., 3., 3., 6., 3., 1., 2., 4., 5., 5., 6., 6.,\n",
       "       6., 6., 4., 1., 5., 2., 2., 3., 4., 4., 3., 5., 5., 5., 3., 2., 2.,\n",
       "       3., 6., 6., 4., 5., 5., 6., 6., 3., 6., 2., 6., 6., 5., 3., 5., 4.,\n",
       "       5., 3., 3., 5., 4., 4., 6., 4., 6., 5., 6., 3., 3., 5., 4., 1., 3.,\n",
       "       6., 3., 2., 2., 4., 3., 4., 1., 3., 3., 4., 5., 5., 6., 2., 1., 6.,\n",
       "       5., 4., 5., 5., 6., 1., 5., 3., 3., 6., 5., 3., 3., 3., 5., 3., 1.,\n",
       "       3., 2., 4., 4., 2., 3., 2., 5., 6., 6., 4., 6., 4., 5., 4., 1., 1.,\n",
       "       2., 6., 5., 5., 6., 4., 3., 5., 5., 5., 6., 6., 6., 2., 5., 6., 3.,\n",
       "       3., 4., 3., 4., 5., 1., 3., 5., 6., 5., 1., 5., 4., 3., 3., 6., 2.,\n",
       "       5., 3., 3., 3., 3., 1., 5., 3., 2., 2., 4., 6., 3., 4., 3., 6., 2.,\n",
       "       3., 3., 5., 6., 4., 6., 4., 2., 5., 5., 6., 3., 6., 6., 5., 4., 4.,\n",
       "       5., 3., 3., 4., 3., 4., 6., 5., 2., 3., 6., 3., 6., 3., 3., 5., 6.,\n",
       "       6., 4., 4., 5., 4., 6., 4., 4., 5., 1., 3., 1., 6., 5., 2., 2., 5.,\n",
       "       1., 6., 3., 5., 5., 6., 3., 6., 2., 4., 3., 2., 4., 2., 5., 6., 5.,\n",
       "       2., 1., 3., 2., 6., 4., 6., 3., 4., 4., 4., 4., 4., 4., 5., 4., 2.,\n",
       "       5., 5., 6., 3., 4., 6., 5., 1., 4., 4., 6., 3., 5., 4., 5., 5., 5.,\n",
       "       2., 4., 5., 6., 6., 5., 4., 5., 1., 2., 2., 4., 4., 6., 3., 5., 4.,\n",
       "       4., 3., 4., 4., 5., 5., 3., 3., 3.])"
      ]
     },
     "execution_count": 116,
     "metadata": {},
     "output_type": "execute_result"
    }
   ],
   "source": [
    "vars=X_test.to_numpy()\n",
    "y_pred=np.array([])\n",
    "for var in vars:\n",
    "    prob1=mvnorm(var,mv_1,cov1)*p1\n",
    "    prob2=mvnorm(var,mv_2,cov2)*p2\n",
    "    prob3=mvnorm(var,mv_3,cov3)*p3\n",
    "    prob4=mvnorm(var,mv_4,cov4)*p4\n",
    "    prob5=mvnorm(var,mv_5,cov5)*p5\n",
    "    prob6=mvnorm(var,mv_6,cov6)*p6\n",
    "    if prob1==max(prob1,prob2,prob3,prob4,prob5,prob6):\n",
    "        y_pred=np.append(y_pred,1)\n",
    "    elif prob2==max(prob1,prob2,prob3,prob4,prob5,prob6):\n",
    "        y_pred=np.append(y_pred,2)\n",
    "    elif prob3==max(prob1,prob2,prob3,prob4,prob5,prob6):\n",
    "        y_pred=np.append(y_pred,3)\n",
    "    elif prob4==max(prob1,prob2,prob3,prob4,prob5,prob6):\n",
    "        y_pred=np.append(y_pred,4)\n",
    "    elif prob5==max(prob1,prob2,prob3,prob4,prob5,prob6):\n",
    "        y_pred=np.append(y_pred,5)\n",
    "    else:\n",
    "        y_pred=np.append(y_pred,6)\n",
    "y_pred"
   ]
  },
  {
   "cell_type": "markdown",
   "id": "cdd29d39-1796-4bbc-a261-84c8d29ca48b",
   "metadata": {},
   "source": [
    "#### Calculating test accuracy"
   ]
  },
  {
   "cell_type": "code",
   "execution_count": 117,
   "id": "dca93759-54d6-4fbf-bf45-b8df73df0be9",
   "metadata": {
    "scrolled": true
   },
   "outputs": [
    {
     "data": {
      "text/plain": [
       "79.08309455587393"
      ]
     },
     "execution_count": 117,
     "metadata": {},
     "output_type": "execute_result"
    }
   ],
   "source": [
    "accuracy=np.mean(y_pred==Y_test)\n",
    "accuracy*100"
   ]
  },
  {
   "cell_type": "markdown",
   "id": "4b23dc2a-bfa1-482b-8e8b-718b20cbd86b",
   "metadata": {},
   "source": [
    "### 50-50 Split"
   ]
  },
  {
   "cell_type": "code",
   "execution_count": 118,
   "id": "a68044fc-1682-4890-afa0-d72d58e60224",
   "metadata": {},
   "outputs": [],
   "source": [
    "#50% train, 50%test\n",
    "X_train, X_test, Y_train, Y_test = train_test_split(X, Y, test_size=0.5, random_state=42,stratify=Y)"
   ]
  },
  {
   "cell_type": "markdown",
   "id": "bd41e309-f43c-470b-b066-c3a22a8dcde7",
   "metadata": {},
   "source": [
    "#### Calculating parameters for train data"
   ]
  },
  {
   "cell_type": "code",
   "execution_count": 119,
   "id": "28c5fbb7-8c10-4082-9274-a4120693b5b3",
   "metadata": {},
   "outputs": [
    {
     "data": {
      "text/plain": [
       "array([ 622.22222222, 1472.22222222, 2385.        ])"
      ]
     },
     "execution_count": 119,
     "metadata": {},
     "output_type": "execute_result"
    }
   ],
   "source": [
    "#Calculating class wise Mean Vectors for 80% data\n",
    "mv_1 = np.mean(X_train[Y_train==1],axis=0).to_numpy() # Mean vector for class 1\n",
    "mv_2 = np.mean(X_train[Y_train==2],axis=0).to_numpy() # Mean vector for class 2\n",
    "mv_3 = np.mean(X_train[Y_train==3],axis=0).to_numpy() # Mean vector for class 3\n",
    "mv_4 = np.mean(X_train[Y_train==4],axis=0).to_numpy() # Mean vector for class 4\n",
    "mv_5 = np.mean(X_train[Y_train==5],axis=0).to_numpy() # Mean vector for class 5\n",
    "mv_6 = np.mean(X_train[Y_train==6],axis=0).to_numpy() # Mean vector for class 6\n",
    "mv_1 #view mean vector for class 1"
   ]
  },
  {
   "cell_type": "code",
   "execution_count": 120,
   "id": "d1de9099-3cb7-43d5-9816-fc0bd606dd2a",
   "metadata": {},
   "outputs": [
    {
     "data": {
      "text/plain": [
       "array([[ 3367.44186047,  -589.32968536, -2383.74829001],\n",
       "       [ -589.32968536, 26501.02599179, 24511.96990424],\n",
       "       [-2383.74829001, 24511.96990424, 41180.04103967]])"
      ]
     },
     "execution_count": 120,
     "metadata": {},
     "output_type": "execute_result"
    }
   ],
   "source": [
    "#Calculate Class wise Covariance Matrix\n",
    "cov1=X_train[Y_train==1].cov().to_numpy()\n",
    "cov2=X_train[Y_train==2].cov().to_numpy()\n",
    "cov3=X_train[Y_train==3].cov().to_numpy()\n",
    "cov4=X_train[Y_train==4].cov().to_numpy()\n",
    "cov5=X_train[Y_train==5].cov().to_numpy()\n",
    "cov6=X_train[Y_train==6].cov().to_numpy()\n",
    "cov3"
   ]
  },
  {
   "cell_type": "markdown",
   "id": "fc8528d0-3809-42ef-80bb-8033434e28de",
   "metadata": {},
   "source": [
    "#### Calculating prior probabilities"
   ]
  },
  {
   "cell_type": "code",
   "execution_count": 121,
   "id": "b1035c50-2482-4a51-984f-17ab55b93967",
   "metadata": {},
   "outputs": [
    {
     "data": {
      "text/plain": [
       "0.2367816091954023"
      ]
     },
     "execution_count": 121,
     "metadata": {},
     "output_type": "execute_result"
    }
   ],
   "source": [
    "p1=(Y_train==1).sum()/Y_train.shape[0]\n",
    "p2=(Y_train==2).sum()/Y_train.shape[0]\n",
    "p3=(Y_train==3).sum()/Y_train.shape[0]\n",
    "p4=(Y_train==4).sum()/Y_train.shape[0]\n",
    "p5=(Y_train==5).sum()/Y_train.shape[0]\n",
    "p6=(Y_train==6).sum()/Y_train.shape[0]\n",
    "p5"
   ]
  },
  {
   "cell_type": "markdown",
   "id": "b206ff37-5bed-409b-84fe-ae7f3b650b3d",
   "metadata": {},
   "source": [
    "#### Calculating training accuracy"
   ]
  },
  {
   "cell_type": "code",
   "execution_count": 122,
   "id": "57a18a82-a2dd-4a45-b3ab-aef21711fc89",
   "metadata": {},
   "outputs": [
    {
     "data": {
      "text/plain": [
       "84.59770114942529"
      ]
     },
     "execution_count": 122,
     "metadata": {},
     "output_type": "execute_result"
    }
   ],
   "source": [
    "vars=X_train.to_numpy()\n",
    "y_train=np.array([])\n",
    "for var in vars:\n",
    "    prob1=mvnorm(var,mv_1,cov1)*p1\n",
    "    prob2=mvnorm(var,mv_2,cov2)*p2\n",
    "    prob3=mvnorm(var,mv_3,cov3)*p3\n",
    "    prob4=mvnorm(var,mv_4,cov3)*p4\n",
    "    prob5=mvnorm(var,mv_5,cov5)*p5\n",
    "    prob6=mvnorm(var,mv_6,cov6)*p6\n",
    "    if prob1==max(prob1,prob2,prob3,prob4,prob5,prob6):\n",
    "        y_train=np.append(y_train,1)\n",
    "    elif prob2==max(prob1,prob2,prob3,prob4,prob5,prob6):\n",
    "        y_train=np.append(y_train,2)\n",
    "    elif prob3==max(prob1,prob2,prob3,prob4,prob5,prob6):\n",
    "        y_train=np.append(y_train,3)\n",
    "    elif prob4==max(prob1,prob2,prob3,prob4,prob5,prob6):\n",
    "        y_train=np.append(y_train,4)\n",
    "    elif prob5==max(prob1,prob2,prob3,prob4,prob5,prob6):\n",
    "        y_train=np.append(y_train,5)\n",
    "    else:\n",
    "        y_train=np.append(y_train,6)\n",
    "y_train\n",
    "accuracy=np.mean(y_train==Y_train)\n",
    "accuracy*100"
   ]
  },
  {
   "cell_type": "markdown",
   "id": "6bc06712-2320-4d6b-bb64-5b118144e365",
   "metadata": {},
   "source": [
    "#### Using the 50% test data"
   ]
  },
  {
   "cell_type": "code",
   "execution_count": 123,
   "id": "fb695049-a474-434d-a849-7b957f4e4b3b",
   "metadata": {},
   "outputs": [
    {
     "data": {
      "text/plain": [
       "array([2., 6., 4., 3., 6., 5., 4., 5., 3., 3., 4., 5., 4., 6., 6., 6., 5.,\n",
       "       4., 4., 2., 5., 4., 3., 4., 4., 4., 1., 6., 5., 3., 3., 4., 6., 2.,\n",
       "       5., 3., 4., 1., 2., 5., 5., 3., 5., 5., 4., 5., 6., 3., 3., 6., 4.,\n",
       "       6., 5., 6., 5., 6., 5., 4., 5., 1., 3., 1., 5., 2., 4., 1., 3., 6.,\n",
       "       3., 4., 5., 5., 3., 6., 6., 2., 3., 6., 4., 5., 4., 6., 4., 1., 5.,\n",
       "       5., 3., 2., 3., 6., 6., 3., 5., 4., 5., 3., 5., 4., 5., 4., 5., 6.,\n",
       "       5., 6., 3., 3., 2., 2., 4., 3., 6., 4., 5., 4., 5., 3., 3., 5., 5.,\n",
       "       6., 4., 4., 6., 2., 5., 2., 3., 6., 4., 3., 3., 6., 6., 6., 5., 2.,\n",
       "       4., 2., 6., 5., 2., 1., 3., 3., 4., 6., 6., 4., 1., 6., 3., 6., 2.,\n",
       "       5., 4., 6., 5., 3., 3., 5., 1., 2., 4., 5., 5., 3., 3., 3., 5., 4.,\n",
       "       5., 6., 4., 1., 6., 6., 3., 5., 4., 6., 3., 2., 1., 3., 4., 4., 4.,\n",
       "       6., 5., 4., 3., 3., 6., 1., 6., 3., 4., 4., 5., 4., 2., 2., 6., 4.,\n",
       "       3., 3., 3., 5., 1., 6., 3., 5., 3., 5., 4., 2., 4., 5., 3., 2., 5.,\n",
       "       4., 5., 6., 4., 6., 2., 6., 3., 5., 5., 6., 4., 2., 5., 6., 3., 3.,\n",
       "       5., 4., 6., 3., 6., 6., 3., 3., 6., 4., 3., 4., 3., 5., 6., 3., 5.,\n",
       "       3., 1., 5., 5., 6., 2., 5., 5., 5., 5., 4., 4., 5., 3., 5., 2., 6.,\n",
       "       2., 6., 5., 2., 6., 5., 4., 2., 6., 6., 6., 6., 3., 6., 6., 3., 3.,\n",
       "       3., 3., 5., 4., 2., 6., 6., 5., 5., 4., 4., 5., 6., 5., 1., 5., 3.,\n",
       "       5., 3., 5., 3., 3., 2., 4., 6., 6., 6., 6., 3., 4., 1., 1., 6., 5.,\n",
       "       4., 5., 6., 6., 5., 6., 1., 5., 3., 5., 5., 3., 4., 3., 6., 5., 3.,\n",
       "       4., 3., 6., 3., 5., 5., 6., 3., 6., 4., 1., 3., 3., 2., 1., 2., 3.,\n",
       "       5., 3., 2., 4., 4., 4., 5., 6., 5., 5., 4., 2., 5., 4., 5., 5., 2.,\n",
       "       5., 4., 6., 2., 3., 5., 5., 6., 3., 4., 3., 4., 3., 5., 1., 1., 1.,\n",
       "       3., 2., 6., 3., 2., 6., 6., 2., 3., 4., 6., 5., 5., 6., 5., 4., 1.,\n",
       "       5., 5., 5., 2., 4., 3., 3., 3., 2., 3., 5., 6., 4., 5., 4., 3., 3.,\n",
       "       1., 5., 3., 3., 1., 3., 6., 3., 4., 5., 4.])"
      ]
     },
     "execution_count": 123,
     "metadata": {},
     "output_type": "execute_result"
    }
   ],
   "source": [
    "vars=X_test.to_numpy()\n",
    "y_pred=np.array([])\n",
    "for var in vars:\n",
    "    prob1=mvnorm(var,mv_1,cov1)*p1\n",
    "    prob2=mvnorm(var,mv_2,cov2)*p2\n",
    "    prob3=mvnorm(var,mv_3,cov3)*p3\n",
    "    prob4=mvnorm(var,mv_4,cov4)*p4\n",
    "    prob5=mvnorm(var,mv_5,cov5)*p5\n",
    "    prob6=mvnorm(var,mv_6,cov6)*p6\n",
    "    if prob1==max(prob1,prob2,prob3,prob4,prob5,prob6):\n",
    "        y_pred=np.append(y_pred,1)\n",
    "    elif prob2==max(prob1,prob2,prob3,prob4,prob5,prob6):\n",
    "        y_pred=np.append(y_pred,2)\n",
    "    elif prob3==max(prob1,prob2,prob3,prob4,prob5,prob6):\n",
    "        y_pred=np.append(y_pred,3)\n",
    "    elif prob4==max(prob1,prob2,prob3,prob4,prob5,prob6):\n",
    "        y_pred=np.append(y_pred,4)\n",
    "    elif prob5==max(prob1,prob2,prob3,prob4,prob5,prob6):\n",
    "        y_pred=np.append(y_pred,5)\n",
    "    else:\n",
    "        y_pred=np.append(y_pred,6)\n",
    "y_pred"
   ]
  },
  {
   "cell_type": "markdown",
   "id": "0dea18bf-09f8-4bed-801c-c31e1e69adc3",
   "metadata": {},
   "source": [
    "#### Calculating test accuracy"
   ]
  },
  {
   "cell_type": "code",
   "execution_count": 124,
   "id": "a0850f5c-f11b-4a6d-827c-95eabd326251",
   "metadata": {
    "scrolled": true
   },
   "outputs": [
    {
     "data": {
      "text/plain": [
       "81.19266055045871"
      ]
     },
     "execution_count": 124,
     "metadata": {},
     "output_type": "execute_result"
    }
   ],
   "source": [
    "accuracy=np.mean(y_pred==Y_test)\n",
    "accuracy*100"
   ]
  },
  {
   "cell_type": "code",
   "execution_count": null,
   "id": "922d7eb1-53c0-46f4-9255-e7ce11c4702a",
   "metadata": {},
   "outputs": [],
   "source": []
  }
 ],
 "metadata": {
  "kernelspec": {
   "display_name": "Python 3 (ipykernel)",
   "language": "python",
   "name": "python3"
  },
  "language_info": {
   "codemirror_mode": {
    "name": "ipython",
    "version": 3
   },
   "file_extension": ".py",
   "mimetype": "text/x-python",
   "name": "python",
   "nbconvert_exporter": "python",
   "pygments_lexer": "ipython3",
   "version": "3.12.4"
  }
 },
 "nbformat": 4,
 "nbformat_minor": 5
}
