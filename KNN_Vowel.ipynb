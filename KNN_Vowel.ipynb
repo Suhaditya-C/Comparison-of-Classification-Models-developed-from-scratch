{
 "cells": [
  {
   "cell_type": "markdown",
   "id": "f558bb1a-827c-4b96-8e5e-6ad781705986",
   "metadata": {},
   "source": [
    "# K Nearest Neighbours"
   ]
  },
  {
   "cell_type": "markdown",
   "id": "a6fcf7dc-5274-4032-8f50-651daf82e659",
   "metadata": {},
   "source": [
    "## Importing Dependencies"
   ]
  },
  {
   "cell_type": "code",
   "execution_count": 2,
   "id": "0df9c733-135d-420e-bf84-8d80cbeee9c1",
   "metadata": {},
   "outputs": [],
   "source": [
    "import pandas as pd\n",
    "import numpy as np\n",
    "from sklearn.model_selection import train_test_split\n",
    "import matplotlib.pyplot as plt"
   ]
  },
  {
   "cell_type": "code",
   "execution_count": 3,
   "id": "12ea48e2-a94d-4f83-94c6-a6db080adc58",
   "metadata": {},
   "outputs": [
    {
     "data": {
      "text/html": [
       "<div>\n",
       "<style scoped>\n",
       "    .dataframe tbody tr th:only-of-type {\n",
       "        vertical-align: middle;\n",
       "    }\n",
       "\n",
       "    .dataframe tbody tr th {\n",
       "        vertical-align: top;\n",
       "    }\n",
       "\n",
       "    .dataframe thead th {\n",
       "        text-align: right;\n",
       "    }\n",
       "</style>\n",
       "<table border=\"1\" class=\"dataframe\">\n",
       "  <thead>\n",
       "    <tr style=\"text-align: right;\">\n",
       "      <th></th>\n",
       "      <th>Class</th>\n",
       "      <th>F1</th>\n",
       "      <th>F2</th>\n",
       "      <th>F3</th>\n",
       "    </tr>\n",
       "  </thead>\n",
       "  <tbody>\n",
       "    <tr>\n",
       "      <th>382</th>\n",
       "      <td>4</td>\n",
       "      <td>400</td>\n",
       "      <td>900</td>\n",
       "      <td>2800</td>\n",
       "    </tr>\n",
       "    <tr>\n",
       "      <th>378</th>\n",
       "      <td>4</td>\n",
       "      <td>400</td>\n",
       "      <td>1000</td>\n",
       "      <td>2800</td>\n",
       "    </tr>\n",
       "    <tr>\n",
       "      <th>625</th>\n",
       "      <td>5</td>\n",
       "      <td>450</td>\n",
       "      <td>1600</td>\n",
       "      <td>2200</td>\n",
       "    </tr>\n",
       "    <tr>\n",
       "      <th>864</th>\n",
       "      <td>6</td>\n",
       "      <td>500</td>\n",
       "      <td>1050</td>\n",
       "      <td>2800</td>\n",
       "    </tr>\n",
       "    <tr>\n",
       "      <th>68</th>\n",
       "      <td>1</td>\n",
       "      <td>650</td>\n",
       "      <td>1200</td>\n",
       "      <td>2300</td>\n",
       "    </tr>\n",
       "  </tbody>\n",
       "</table>\n",
       "</div>"
      ],
      "text/plain": [
       "     Class   F1    F2    F3\n",
       "382      4  400   900  2800\n",
       "378      4  400  1000  2800\n",
       "625      5  450  1600  2200\n",
       "864      6  500  1050  2800\n",
       "68       1  650  1200  2300"
      ]
     },
     "execution_count": 3,
     "metadata": {},
     "output_type": "execute_result"
    }
   ],
   "source": [
    "df=pd.read_csv('Vowel.csv')\n",
    "df.head()\n",
    "df.sample(5)"
   ]
  },
  {
   "cell_type": "code",
   "execution_count": 4,
   "id": "7bf55722-015b-4130-9637-7d6d8872376e",
   "metadata": {},
   "outputs": [
    {
     "data": {
      "text/plain": [
       "Class\n",
       "5    207\n",
       "6    180\n",
       "3    172\n",
       "4    151\n",
       "2     89\n",
       "1     72\n",
       "Name: count, dtype: int64"
      ]
     },
     "execution_count": 4,
     "metadata": {},
     "output_type": "execute_result"
    }
   ],
   "source": [
    "df.value_counts('Class')"
   ]
  },
  {
   "cell_type": "markdown",
   "id": "4c40b366-5c63-459b-85c3-fd99c40dcbab",
   "metadata": {},
   "source": [
    "## Separate Predictors and Response"
   ]
  },
  {
   "cell_type": "code",
   "execution_count": 6,
   "id": "fc6f4b62-d5b9-46ef-87d2-0432592ec8cf",
   "metadata": {},
   "outputs": [
    {
     "data": {
      "text/html": [
       "<div>\n",
       "<style scoped>\n",
       "    .dataframe tbody tr th:only-of-type {\n",
       "        vertical-align: middle;\n",
       "    }\n",
       "\n",
       "    .dataframe tbody tr th {\n",
       "        vertical-align: top;\n",
       "    }\n",
       "\n",
       "    .dataframe thead th {\n",
       "        text-align: right;\n",
       "    }\n",
       "</style>\n",
       "<table border=\"1\" class=\"dataframe\">\n",
       "  <thead>\n",
       "    <tr style=\"text-align: right;\">\n",
       "      <th></th>\n",
       "      <th>F1</th>\n",
       "      <th>F2</th>\n",
       "      <th>F3</th>\n",
       "    </tr>\n",
       "  </thead>\n",
       "  <tbody>\n",
       "    <tr>\n",
       "      <th>0</th>\n",
       "      <td>700</td>\n",
       "      <td>1500</td>\n",
       "      <td>2600</td>\n",
       "    </tr>\n",
       "    <tr>\n",
       "      <th>1</th>\n",
       "      <td>550</td>\n",
       "      <td>1550</td>\n",
       "      <td>2400</td>\n",
       "    </tr>\n",
       "    <tr>\n",
       "      <th>2</th>\n",
       "      <td>700</td>\n",
       "      <td>1500</td>\n",
       "      <td>2600</td>\n",
       "    </tr>\n",
       "    <tr>\n",
       "      <th>3</th>\n",
       "      <td>700</td>\n",
       "      <td>1600</td>\n",
       "      <td>2700</td>\n",
       "    </tr>\n",
       "    <tr>\n",
       "      <th>4</th>\n",
       "      <td>550</td>\n",
       "      <td>1600</td>\n",
       "      <td>2600</td>\n",
       "    </tr>\n",
       "  </tbody>\n",
       "</table>\n",
       "</div>"
      ],
      "text/plain": [
       "    F1    F2    F3\n",
       "0  700  1500  2600\n",
       "1  550  1550  2400\n",
       "2  700  1500  2600\n",
       "3  700  1600  2700\n",
       "4  550  1600  2600"
      ]
     },
     "execution_count": 6,
     "metadata": {},
     "output_type": "execute_result"
    }
   ],
   "source": [
    "X=df.drop(columns=['Class'])\n",
    "Y=df['Class']\n",
    "X.head()"
   ]
  },
  {
   "cell_type": "markdown",
   "id": "0238f774-4105-4e4f-a31f-757ef0885f68",
   "metadata": {},
   "source": [
    "## Defining KNN function"
   ]
  },
  {
   "cell_type": "code",
   "execution_count": 7,
   "id": "55d87620-627e-4349-8cee-ea48a1de8d48",
   "metadata": {},
   "outputs": [],
   "source": [
    "#defining euclidean distance first\n",
    "\n",
    "def e_dist(a,b):\n",
    "    return np.sqrt(np.sum(np.square(a-b)))"
   ]
  },
  {
   "cell_type": "code",
   "execution_count": 8,
   "id": "ddc4be90-94de-4995-b663-5f4aebcc495e",
   "metadata": {},
   "outputs": [],
   "source": [
    "def KNN(X_train,Y_train,x_test,k): # KNN for each test value\n",
    "    distances=[]\n",
    "    labels=[]\n",
    "    for x in X_train:\n",
    "        distances.append(e_dist(x,x_test)) #find euclidean distance between each test value and all train values\n",
    "    #get the first k indices of the sorted array in increasing order\n",
    "    k_indices=np.argsort(distances)[:k]\n",
    "    # get the labels index wise\n",
    "    for index in k_indices:\n",
    "        labels.append(Y_train[index])\n",
    "    # Majority Voting\n",
    "    return max(set(labels),key=labels.count) #Calls .count() only on unique labels, making it faster"
   ]
  },
  {
   "cell_type": "markdown",
   "id": "a12d98d0-3712-4f6b-8f98-5f4d1d056ebc",
   "metadata": {},
   "source": [
    "## Splitting Train test data"
   ]
  },
  {
   "cell_type": "markdown",
   "id": "35328348-2df5-420b-b584-1b85d6641d47",
   "metadata": {},
   "source": [
    "### 80-20 Split"
   ]
  },
  {
   "cell_type": "code",
   "execution_count": 12,
   "id": "fbe543e8-0fbf-499c-85c2-7220ea72d7f3",
   "metadata": {},
   "outputs": [
    {
     "data": {
      "text/plain": [
       "46     1\n",
       "118    2\n",
       "719    6\n",
       "208    3\n",
       "168    3\n",
       "Name: Class, dtype: int64"
      ]
     },
     "execution_count": 12,
     "metadata": {},
     "output_type": "execute_result"
    }
   ],
   "source": [
    "#80% train, 20%test\n",
    "X_train, X_test, Y_train, Y_test = train_test_split(X, Y, test_size=0.2,random_state=42,stratify=Y)\n",
    "Y_train.head()"
   ]
  },
  {
   "cell_type": "code",
   "execution_count": 13,
   "id": "767c4772-7431-4e51-8adc-17b561f42e2e",
   "metadata": {},
   "outputs": [
    {
     "data": {
      "text/plain": [
       "array([1, 3, 6, 3, 6, 5, 6, 4, 5, 6, 5, 3, 6, 4, 3, 3, 1, 4, 3, 6, 5, 3,\n",
       "       5, 6, 3, 6, 3, 6, 5, 2, 1, 4, 5, 3, 4, 6, 6, 5, 3, 5, 2, 4, 2, 6,\n",
       "       5, 5, 4, 4, 5, 5, 5, 4, 3, 6, 6, 4, 3, 6, 5, 4, 2, 5, 5, 5, 6, 5,\n",
       "       5, 4, 1, 1, 3, 4, 3, 5, 1, 4, 4, 1, 5, 4, 2, 4, 5, 5, 4, 3, 5, 5,\n",
       "       4, 6, 6, 5, 6, 1, 3, 5, 6, 6, 3, 6, 6, 5, 6, 5, 2, 6, 2, 6, 3, 3,\n",
       "       3, 5, 6, 3, 6, 5, 1, 4, 3, 2, 5, 6, 3, 5, 4, 3, 2, 6, 6, 5, 4, 2,\n",
       "       6, 4, 5, 2, 5, 4, 6, 1, 2, 3, 6, 5, 1, 4, 2, 3, 6, 1, 5, 3, 5, 6,\n",
       "       5, 3, 2, 1, 3, 5, 6, 5, 5, 4, 4, 1, 2, 4, 4, 6, 5, 3, 4, 3, 6],\n",
       "      dtype=int64)"
      ]
     },
     "execution_count": 13,
     "metadata": {},
     "output_type": "execute_result"
    }
   ],
   "source": [
    "y_hat=[]\n",
    "for x_test in X_test.to_numpy():\n",
    "    y_hat.append(KNN(X_train.to_numpy(),Y_train.to_numpy(),x_test,k=5))\n",
    "y_hat=np.array(y_hat)\n",
    "y_hat"
   ]
  },
  {
   "cell_type": "markdown",
   "id": "2270dfbb-cbbd-425f-afb3-493d2c28261b",
   "metadata": {},
   "source": [
    "#### Calculating test accuracy"
   ]
  },
  {
   "cell_type": "code",
   "execution_count": 14,
   "id": "8bd3dc0d-72c8-43d6-90c2-145d995ca3ad",
   "metadata": {},
   "outputs": [
    {
     "data": {
      "text/plain": [
       "84.0"
      ]
     },
     "execution_count": 14,
     "metadata": {},
     "output_type": "execute_result"
    }
   ],
   "source": [
    "accuracy=np.mean(y_hat==Y_test.to_numpy())\n",
    "accuracy*100"
   ]
  },
  {
   "cell_type": "markdown",
   "id": "605c1a66-0dd3-4628-831f-207ff7b3fba3",
   "metadata": {},
   "source": [
    "### 70-30 Split"
   ]
  },
  {
   "cell_type": "code",
   "execution_count": 15,
   "id": "1e2dd4b7-d5fe-49d8-b67b-dbfc71947d82",
   "metadata": {},
   "outputs": [],
   "source": [
    "#70% train, 30%test\n",
    "X_train, X_test, Y_train, Y_test = train_test_split(X, Y, test_size=0.3, random_state=42,stratify=Y)"
   ]
  },
  {
   "cell_type": "code",
   "execution_count": 16,
   "id": "99f2a77c",
   "metadata": {},
   "outputs": [
    {
     "data": {
      "text/plain": [
       "array([6, 4, 6, 4, 1, 1, 4, 3, 5, 2, 5, 5, 2, 4, 3, 4, 6, 2, 3, 5, 6, 3,\n",
       "       4, 3, 3, 5, 5, 3, 5, 6, 1, 2, 4, 4, 3, 4, 4, 5, 6, 4, 2, 1, 5, 5,\n",
       "       5, 2, 4, 6, 5, 1, 3, 6, 2, 5, 3, 4, 3, 4, 3, 4, 5, 6, 3, 5, 6, 4,\n",
       "       6, 6, 5, 4, 6, 2, 6, 3, 2, 3, 2, 4, 6, 4, 1, 6, 3, 3, 1, 4, 6, 5,\n",
       "       5, 6, 1, 5, 5, 4, 3, 2, 3, 4, 3, 3, 2, 4, 4, 6, 4, 6, 5, 6, 6, 5,\n",
       "       3, 5, 1, 4, 4, 5, 5, 2, 3, 5, 3, 5, 2, 4, 4, 6, 3, 6, 4, 5, 6, 6,\n",
       "       5, 3, 6, 6, 4, 5, 6, 6, 3, 1, 6, 3, 4, 3, 3, 3, 4, 3, 6, 4, 1, 4,\n",
       "       5, 2, 5, 5, 1, 3, 1, 5, 3, 5, 5, 5, 5, 6, 6, 2, 2, 3, 3, 6, 1, 5,\n",
       "       5, 5, 6, 6, 6, 4, 6, 5, 2, 6, 3, 3, 3, 5, 3, 5, 5, 2, 3, 6, 6, 5,\n",
       "       3, 6, 5, 4, 3, 6, 2, 6, 4, 3, 6, 5, 2, 5, 6, 3, 2, 5, 4, 5, 5, 4,\n",
       "       3, 2, 6, 4, 6, 5, 4, 1, 6, 1, 5, 5, 5, 3, 6, 5, 5, 4, 2, 6, 4, 3,\n",
       "       5, 4, 1, 3, 3, 6, 5, 3, 3, 6, 4, 4, 1, 6, 6, 3, 6, 6, 4, 3],\n",
       "      dtype=int64)"
      ]
     },
     "execution_count": 16,
     "metadata": {},
     "output_type": "execute_result"
    }
   ],
   "source": [
    "y_hat=[]\n",
    "for x_test in X_test.to_numpy():\n",
    "    y_hat.append(KNN(X_train.to_numpy(),Y_train.to_numpy(),x_test,k=5))\n",
    "y_hat=np.array(y_hat)\n",
    "y_hat"
   ]
  },
  {
   "cell_type": "markdown",
   "id": "71a73edf",
   "metadata": {},
   "source": [
    "#### Calculating test accuracy"
   ]
  },
  {
   "cell_type": "code",
   "execution_count": 17,
   "id": "71a5beaf",
   "metadata": {},
   "outputs": [
    {
     "data": {
      "text/plain": [
       "83.20610687022901"
      ]
     },
     "execution_count": 17,
     "metadata": {},
     "output_type": "execute_result"
    }
   ],
   "source": [
    "accuracy=np.mean(y_hat==Y_test.to_numpy())\n",
    "accuracy*100"
   ]
  },
  {
   "cell_type": "markdown",
   "id": "1ed340aa-885d-4a8e-8885-3678c974158b",
   "metadata": {},
   "source": [
    "### 60-40 Split"
   ]
  },
  {
   "cell_type": "code",
   "execution_count": 18,
   "id": "e51f14cb-73d2-4781-8027-c8f87efc3a38",
   "metadata": {},
   "outputs": [],
   "source": [
    "#60% train, 40%test\n",
    "X_train, X_test, Y_train, Y_test = train_test_split(X, Y, test_size=0.4, random_state=42,stratify=Y)"
   ]
  },
  {
   "cell_type": "code",
   "execution_count": 19,
   "id": "9777ee5b",
   "metadata": {},
   "outputs": [
    {
     "data": {
      "text/plain": [
       "array([5, 3, 5, 5, 6, 6, 4, 3, 3, 6, 4, 6, 2, 6, 3, 4, 2, 6, 4, 6, 5, 3,\n",
       "       3, 4, 3, 5, 4, 3, 6, 4, 5, 2, 3, 3, 5, 3, 3, 5, 6, 5, 2, 6, 6, 5,\n",
       "       6, 1, 1, 5, 4, 5, 5, 6, 2, 4, 4, 3, 6, 3, 3, 6, 3, 1, 2, 4, 5, 5,\n",
       "       6, 6, 6, 1, 6, 1, 5, 2, 2, 3, 6, 4, 5, 1, 5, 5, 3, 2, 1, 3, 6, 6,\n",
       "       6, 5, 5, 6, 6, 3, 6, 1, 6, 4, 5, 3, 5, 4, 3, 3, 3, 5, 6, 4, 6, 4,\n",
       "       6, 5, 6, 3, 3, 5, 4, 1, 3, 6, 3, 2, 2, 4, 3, 4, 1, 5, 5, 4, 5, 5,\n",
       "       6, 2, 5, 6, 5, 4, 5, 5, 6, 5, 5, 3, 5, 6, 3, 3, 3, 3, 5, 3, 1, 3,\n",
       "       2, 4, 4, 1, 3, 1, 5, 4, 6, 6, 6, 4, 5, 4, 1, 1, 6, 4, 5, 5, 6, 4,\n",
       "       3, 3, 3, 5, 6, 5, 6, 2, 5, 6, 3, 3, 4, 3, 4, 1, 6, 3, 5, 6, 5, 1,\n",
       "       5, 6, 3, 3, 6, 2, 3, 3, 3, 3, 5, 1, 5, 5, 2, 2, 6, 6, 3, 4, 5, 6,\n",
       "       2, 5, 3, 5, 6, 4, 6, 5, 2, 5, 5, 6, 3, 6, 6, 3, 4, 6, 5, 5, 3, 4,\n",
       "       3, 4, 6, 5, 6, 3, 6, 3, 6, 3, 3, 1, 4, 6, 4, 4, 5, 4, 6, 4, 6, 5,\n",
       "       5, 3, 1, 6, 5, 2, 2, 5, 5, 4, 3, 5, 5, 6, 3, 5, 2, 4, 3, 2, 5, 2,\n",
       "       5, 6, 5, 2, 1, 5, 2, 6, 4, 6, 3, 4, 4, 4, 4, 4, 4, 1, 4, 2, 5, 5,\n",
       "       6, 5, 4, 5, 5, 1, 6, 6, 6, 3, 5, 4, 3, 5, 5, 2, 4, 5, 6, 6, 5, 4,\n",
       "       5, 1, 6, 2, 4, 4, 6, 3, 5, 4, 4, 3, 4, 4, 1, 3, 3, 5, 3],\n",
       "      dtype=int64)"
      ]
     },
     "execution_count": 19,
     "metadata": {},
     "output_type": "execute_result"
    }
   ],
   "source": [
    "y_hat=[]\n",
    "for x_test in X_test.to_numpy():\n",
    "    y_hat.append(KNN(X_train.to_numpy(),Y_train.to_numpy(),x_test,k=5))\n",
    "y_hat=np.array(y_hat)\n",
    "y_hat"
   ]
  },
  {
   "cell_type": "markdown",
   "id": "ace511bb",
   "metadata": {},
   "source": [
    "#### Calculating test accuracy"
   ]
  },
  {
   "cell_type": "code",
   "execution_count": 20,
   "id": "cb0d63d3",
   "metadata": {},
   "outputs": [
    {
     "data": {
      "text/plain": [
       "83.95415472779369"
      ]
     },
     "execution_count": 20,
     "metadata": {},
     "output_type": "execute_result"
    }
   ],
   "source": [
    "accuracy=np.mean(y_hat==Y_test.to_numpy())\n",
    "accuracy*100"
   ]
  },
  {
   "cell_type": "markdown",
   "id": "4b23dc2a-bfa1-482b-8e8b-718b20cbd86b",
   "metadata": {},
   "source": [
    "### 50-50 Split"
   ]
  },
  {
   "cell_type": "code",
   "execution_count": 21,
   "id": "a68044fc-1682-4890-afa0-d72d58e60224",
   "metadata": {},
   "outputs": [],
   "source": [
    "#50% train, 50%test\n",
    "X_train, X_test, Y_train, Y_test = train_test_split(X, Y, test_size=0.5, random_state=42,stratify=Y)"
   ]
  },
  {
   "cell_type": "code",
   "execution_count": 22,
   "id": "18e960a9",
   "metadata": {},
   "outputs": [
    {
     "data": {
      "text/plain": [
       "array([2, 6, 4, 3, 6, 1, 4, 5, 3, 3, 4, 5, 5, 4, 6, 4, 5, 4, 4, 2, 5, 4,\n",
       "       3, 4, 4, 4, 1, 6, 5, 3, 3, 4, 6, 2, 5, 3, 6, 1, 2, 5, 5, 5, 5, 5,\n",
       "       4, 5, 6, 3, 3, 6, 4, 6, 5, 6, 5, 6, 5, 4, 5, 1, 3, 1, 5, 2, 4, 1,\n",
       "       3, 6, 3, 4, 5, 3, 3, 6, 6, 1, 3, 4, 4, 1, 5, 6, 4, 5, 5, 5, 3, 2,\n",
       "       3, 6, 6, 5, 5, 4, 5, 3, 5, 4, 5, 4, 5, 6, 5, 6, 3, 3, 2, 2, 5, 3,\n",
       "       6, 4, 5, 4, 5, 5, 3, 5, 5, 6, 4, 4, 6, 2, 5, 2, 3, 6, 6, 3, 3, 6,\n",
       "       6, 6, 5, 6, 4, 2, 6, 5, 2, 5, 3, 3, 4, 6, 6, 4, 1, 6, 3, 6, 2, 1,\n",
       "       4, 6, 5, 3, 3, 3, 1, 2, 4, 3, 5, 3, 5, 3, 5, 4, 3, 6, 4, 6, 6, 6,\n",
       "       3, 5, 4, 6, 3, 1, 1, 3, 4, 4, 4, 6, 5, 4, 3, 3, 6, 1, 6, 3, 5, 4,\n",
       "       5, 4, 2, 2, 6, 6, 3, 5, 5, 3, 2, 6, 3, 5, 3, 5, 6, 2, 4, 5, 3, 2,\n",
       "       5, 4, 3, 6, 4, 6, 2, 4, 5, 5, 5, 6, 4, 2, 5, 6, 3, 3, 1, 4, 6, 3,\n",
       "       6, 6, 3, 3, 6, 4, 3, 6, 3, 5, 6, 3, 5, 3, 1, 5, 5, 6, 2, 5, 5, 5,\n",
       "       5, 4, 4, 3, 3, 5, 2, 6, 2, 6, 5, 2, 6, 3, 4, 2, 6, 6, 6, 6, 3, 6,\n",
       "       6, 3, 3, 3, 3, 1, 4, 2, 6, 6, 5, 5, 4, 4, 5, 6, 5, 5, 5, 3, 5, 3,\n",
       "       5, 5, 5, 1, 4, 6, 6, 6, 6, 3, 4, 1, 1, 6, 1, 4, 5, 6, 6, 5, 6, 1,\n",
       "       4, 3, 5, 5, 3, 4, 5, 6, 5, 3, 4, 3, 2, 3, 5, 5, 6, 3, 6, 4, 1, 5,\n",
       "       5, 2, 1, 2, 3, 5, 3, 6, 4, 4, 4, 5, 6, 3, 5, 4, 2, 5, 6, 5, 5, 2,\n",
       "       5, 6, 5, 2, 3, 5, 5, 6, 3, 4, 3, 4, 3, 5, 1, 1, 2, 3, 2, 6, 3, 6,\n",
       "       6, 6, 6, 3, 4, 6, 5, 5, 6, 5, 4, 1, 5, 5, 5, 2, 4, 5, 3, 3, 2, 3,\n",
       "       5, 6, 4, 5, 4, 3, 3, 1, 5, 5, 3, 5, 5, 6, 3, 4, 5, 4], dtype=int64)"
      ]
     },
     "execution_count": 22,
     "metadata": {},
     "output_type": "execute_result"
    }
   ],
   "source": [
    "y_hat=[]\n",
    "for x_test in X_test.to_numpy():\n",
    "    y_hat.append(KNN(X_train.to_numpy(),Y_train.to_numpy(),x_test,k=5))\n",
    "y_hat=np.array(y_hat)\n",
    "y_hat"
   ]
  },
  {
   "cell_type": "markdown",
   "id": "af2a225f",
   "metadata": {},
   "source": [
    "#### Calculating test accuracy"
   ]
  },
  {
   "cell_type": "code",
   "execution_count": 23,
   "id": "cddefde9",
   "metadata": {},
   "outputs": [
    {
     "data": {
      "text/plain": [
       "84.17431192660551"
      ]
     },
     "execution_count": 23,
     "metadata": {},
     "output_type": "execute_result"
    }
   ],
   "source": [
    "accuracy=np.mean(y_hat==Y_test.to_numpy())\n",
    "accuracy*100"
   ]
  },
  {
   "cell_type": "markdown",
   "id": "e0f6a593-3726-4523-a475-f2d11f3c19d4",
   "metadata": {},
   "source": [
    "### K vs Accuracy (for 80-20 Split)"
   ]
  },
  {
   "cell_type": "code",
   "execution_count": 24,
   "id": "8ab8a5c3-f9ae-4f66-be58-3fa1f9dde442",
   "metadata": {},
   "outputs": [
    {
     "data": {
      "image/png": "[encoded data removed]",
      "text/plain": [
       "<Figure size 1000x500 with 1 Axes>"
      ]
     },
     "metadata": {},
     "output_type": "display_data"
    }
   ],
   "source": [
    "#80% train, 20%test\n",
    "X_train, X_test, Y_train, Y_test = train_test_split(X, Y, test_size=0.2,random_state=42,stratify=Y)\n",
    "\n",
    "accuracy=[]\n",
    "k_values= range(1,100)\n",
    "for k in k_values: \n",
    "    y_hat=[]\n",
    "    for x_test in X_test.to_numpy():\n",
    "        y_hat.append(KNN(X_train.to_numpy(),Y_train.to_numpy(),x_test,k))\n",
    "    accuracy.append(np.mean(np.array(y_hat)==Y_test.to_numpy())*100)\n",
    "\n",
    "# Plot k vs Accuracy\n",
    "title = \"KNN: Number of Neighbors vs. Accuracy\"\n",
    "plt.figure(figsize=(10, 5))\n",
    "plt.plot(k_values, accuracy, marker='o', linestyle='-', color='b')\n",
    "plt.xlabel(\"Number of Neighbors (k)\")\n",
    "plt.ylabel(\"Accuracy\")\n",
    "plt.title(title)\n",
    "plt.grid()\n",
    "plt.show()"
   ]
  }
 ],
 "metadata": {
  "kernelspec": {
   "display_name": "Python 3 (ipykernel)",
   "language": "python",
   "name": "python3"
  },
  "language_info": {
   "codemirror_mode": {
    "name": "ipython",
    "version": 3
   },
   "file_extension": ".py",
   "mimetype": "text/x-python",
   "name": "python",
   "nbconvert_exporter": "python",
   "pygments_lexer": "ipython3",
   "version": "3.12.4"
  }
 },
 "nbformat": 4,
 "nbformat_minor": 5
}
